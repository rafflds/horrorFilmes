{
 "cells": [
  {
   "cell_type": "markdown",
   "metadata": {},
   "source": [
    "# **About Dataset**\n",
    "\n",
    "🧟‍♂️ Explore this horror movies dataset with films dating back to the 1950s.\n",
    "\n",
    "The dataset was extracted from The Movie Datbase via the tmdb API using R httr by Tanya Shapiro. There are ~32K movie records in this dataset.\n",
    "\n",
    "You can view my visualization I created in the discussion area."
   ]
  },
  {
   "cell_type": "markdown",
   "metadata": {},
   "source": [
    "# Imports"
   ]
  },
  {
   "cell_type": "code",
   "execution_count": 1,
   "metadata": {},
   "outputs": [],
   "source": [
    "import pandas as pd\n",
    "import matplotlib.pyplot as plt\n",
    "%matplotlib inline\n",
    "import seaborn as sns\n",
    "import numpy as np\n",
    "\n",
    "import warnings\n",
    "warnings.filterwarnings('ignore')"
   ]
  },
  {
   "cell_type": "code",
   "execution_count": 2,
   "metadata": {},
   "outputs": [
    {
     "name": "stdout",
     "output_type": "stream",
     "text": [
      "Collecting package metadata (current_repodata.json): done\n",
      "Solving environment: failed with initial frozen solve. Retrying with flexible solve.\n",
      "Collecting package metadata (repodata.json): done\n",
      "Solving environment: failed with initial frozen solve. Retrying with flexible solve.\n",
      "\n",
      "PackagesNotFoundError: The following packages are not available from current channels:\n",
      "\n",
      "  - scikit-learn.\n",
      "\n",
      "Current channels:\n",
      "\n",
      "  - https://repo.anaconda.com/pkgs/main/linux-64\n",
      "  - https://repo.anaconda.com/pkgs/main/noarch\n",
      "  - https://repo.anaconda.com/pkgs/r/linux-64\n",
      "  - https://repo.anaconda.com/pkgs/r/noarch\n",
      "\n",
      "To search for alternate channels that may provide the conda package you're\n",
      "looking for, navigate to\n",
      "\n",
      "    https://anaconda.org\n",
      "\n",
      "and use the search bar at the top of the page.\n",
      "\n",
      "\n",
      "\n",
      "Note: you may need to restart the kernel to use updated packages.\n"
     ]
    }
   ],
   "source": [
    "conda install scikit-learn."
   ]
  },
  {
   "cell_type": "markdown",
   "metadata": {},
   "source": [
    "# <font color=teal>Análise Exploratória"
   ]
  },
  {
   "cell_type": "markdown",
   "metadata": {},
   "source": [
    "## Leitura dos dados"
   ]
  },
  {
   "cell_type": "code",
   "execution_count": 3,
   "metadata": {},
   "outputs": [
    {
     "data": {
      "text/html": [
       "<div>\n",
       "<style scoped>\n",
       "    .dataframe tbody tr th:only-of-type {\n",
       "        vertical-align: middle;\n",
       "    }\n",
       "\n",
       "    .dataframe tbody tr th {\n",
       "        vertical-align: top;\n",
       "    }\n",
       "\n",
       "    .dataframe thead th {\n",
       "        text-align: right;\n",
       "    }\n",
       "</style>\n",
       "<table border=\"1\" class=\"dataframe\">\n",
       "  <thead>\n",
       "    <tr style=\"text-align: right;\">\n",
       "      <th></th>\n",
       "      <th>Unnamed: 0</th>\n",
       "      <th>id</th>\n",
       "      <th>original_title</th>\n",
       "      <th>title</th>\n",
       "      <th>original_language</th>\n",
       "      <th>overview</th>\n",
       "      <th>tagline</th>\n",
       "      <th>release_date</th>\n",
       "      <th>poster_path</th>\n",
       "      <th>popularity</th>\n",
       "      <th>...</th>\n",
       "      <th>vote_average</th>\n",
       "      <th>budget</th>\n",
       "      <th>revenue</th>\n",
       "      <th>runtime</th>\n",
       "      <th>status</th>\n",
       "      <th>adult</th>\n",
       "      <th>backdrop_path</th>\n",
       "      <th>genre_names</th>\n",
       "      <th>collection</th>\n",
       "      <th>collection_name</th>\n",
       "    </tr>\n",
       "  </thead>\n",
       "  <tbody>\n",
       "    <tr>\n",
       "      <th>0</th>\n",
       "      <td>1</td>\n",
       "      <td>760161</td>\n",
       "      <td>Orphan: First Kill</td>\n",
       "      <td>Orphan: First Kill</td>\n",
       "      <td>en</td>\n",
       "      <td>After escaping from an Estonian psychiatric fa...</td>\n",
       "      <td>There's always been something wrong with Esther.</td>\n",
       "      <td>2022-07-27</td>\n",
       "      <td>/pHkKbIRoCe7zIFvqan9LFSaQAde.jpg</td>\n",
       "      <td>5088.584</td>\n",
       "      <td>...</td>\n",
       "      <td>6.9</td>\n",
       "      <td>0.0</td>\n",
       "      <td>9572765.0</td>\n",
       "      <td>99</td>\n",
       "      <td>Released</td>\n",
       "      <td>False</td>\n",
       "      <td>/5GA3vV1aWWHTSDO5eno8V5zDo8r.jpg</td>\n",
       "      <td>Horror, Thriller</td>\n",
       "      <td>760193.0</td>\n",
       "      <td>Orphan Collection</td>\n",
       "    </tr>\n",
       "    <tr>\n",
       "      <th>1</th>\n",
       "      <td>2</td>\n",
       "      <td>760741</td>\n",
       "      <td>Beast</td>\n",
       "      <td>Beast</td>\n",
       "      <td>en</td>\n",
       "      <td>A recently widowed man and his two teenage dau...</td>\n",
       "      <td>Fight for family.</td>\n",
       "      <td>2022-08-11</td>\n",
       "      <td>/xIGr7UHsKf0URWmyyd5qFMAq4d8.jpg</td>\n",
       "      <td>2172.338</td>\n",
       "      <td>...</td>\n",
       "      <td>7.1</td>\n",
       "      <td>0.0</td>\n",
       "      <td>56000000.0</td>\n",
       "      <td>93</td>\n",
       "      <td>Released</td>\n",
       "      <td>False</td>\n",
       "      <td>/2k9tBql5GYH328Krj66tDT9LtFZ.jpg</td>\n",
       "      <td>Adventure, Drama, Horror</td>\n",
       "      <td>NaN</td>\n",
       "      <td>NaN</td>\n",
       "    </tr>\n",
       "    <tr>\n",
       "      <th>2</th>\n",
       "      <td>3</td>\n",
       "      <td>882598</td>\n",
       "      <td>Smile</td>\n",
       "      <td>Smile</td>\n",
       "      <td>en</td>\n",
       "      <td>After witnessing a bizarre, traumatic incident...</td>\n",
       "      <td>Once you see it, it’s too late.</td>\n",
       "      <td>2022-09-23</td>\n",
       "      <td>/hiaeZKzwsk4y4atFhmncO5KRxeT.jpg</td>\n",
       "      <td>1863.628</td>\n",
       "      <td>...</td>\n",
       "      <td>6.8</td>\n",
       "      <td>17000000.0</td>\n",
       "      <td>45000000.0</td>\n",
       "      <td>115</td>\n",
       "      <td>Released</td>\n",
       "      <td>False</td>\n",
       "      <td>/mVNPfpydornVe4H4UCIk7WevWjf.jpg</td>\n",
       "      <td>Horror, Mystery, Thriller</td>\n",
       "      <td>NaN</td>\n",
       "      <td>NaN</td>\n",
       "    </tr>\n",
       "    <tr>\n",
       "      <th>3</th>\n",
       "      <td>4</td>\n",
       "      <td>756999</td>\n",
       "      <td>The Black Phone</td>\n",
       "      <td>The Black Phone</td>\n",
       "      <td>en</td>\n",
       "      <td>Finney Blake, a shy but clever 13-year-old boy...</td>\n",
       "      <td>Never talk to strangers.</td>\n",
       "      <td>2022-06-22</td>\n",
       "      <td>/lr11mCT85T1JanlgjMuhs9nMht4.jpg</td>\n",
       "      <td>1071.398</td>\n",
       "      <td>...</td>\n",
       "      <td>7.9</td>\n",
       "      <td>18800000.0</td>\n",
       "      <td>161000000.0</td>\n",
       "      <td>103</td>\n",
       "      <td>Released</td>\n",
       "      <td>False</td>\n",
       "      <td>/AfvIjhDu9p64jKcmohS4hsPG95Q.jpg</td>\n",
       "      <td>Horror, Thriller</td>\n",
       "      <td>NaN</td>\n",
       "      <td>NaN</td>\n",
       "    </tr>\n",
       "    <tr>\n",
       "      <th>4</th>\n",
       "      <td>5</td>\n",
       "      <td>772450</td>\n",
       "      <td>Presencias</td>\n",
       "      <td>Presences</td>\n",
       "      <td>es</td>\n",
       "      <td>A man who loses his wife and goes to seclude h...</td>\n",
       "      <td>NaN</td>\n",
       "      <td>2022-09-07</td>\n",
       "      <td>/dgDT3uol3mdvwEg0jt1ble3l9hw.jpg</td>\n",
       "      <td>1020.995</td>\n",
       "      <td>...</td>\n",
       "      <td>7.0</td>\n",
       "      <td>0.0</td>\n",
       "      <td>0.0</td>\n",
       "      <td>0</td>\n",
       "      <td>Released</td>\n",
       "      <td>False</td>\n",
       "      <td>/ojfzhdwRemcDt1I6pao6vVLw9AA.jpg</td>\n",
       "      <td>Horror</td>\n",
       "      <td>NaN</td>\n",
       "      <td>NaN</td>\n",
       "    </tr>\n",
       "  </tbody>\n",
       "</table>\n",
       "<p>5 rows × 21 columns</p>\n",
       "</div>"
      ],
      "text/plain": [
       "   Unnamed: 0      id      original_title               title  \\\n",
       "0           1  760161  Orphan: First Kill  Orphan: First Kill   \n",
       "1           2  760741               Beast               Beast   \n",
       "2           3  882598               Smile               Smile   \n",
       "3           4  756999     The Black Phone     The Black Phone   \n",
       "4           5  772450          Presencias           Presences   \n",
       "\n",
       "  original_language                                           overview  \\\n",
       "0                en  After escaping from an Estonian psychiatric fa...   \n",
       "1                en  A recently widowed man and his two teenage dau...   \n",
       "2                en  After witnessing a bizarre, traumatic incident...   \n",
       "3                en  Finney Blake, a shy but clever 13-year-old boy...   \n",
       "4                es  A man who loses his wife and goes to seclude h...   \n",
       "\n",
       "                                            tagline release_date  \\\n",
       "0  There's always been something wrong with Esther.   2022-07-27   \n",
       "1                                 Fight for family.   2022-08-11   \n",
       "2                   Once you see it, it’s too late.   2022-09-23   \n",
       "3                          Never talk to strangers.   2022-06-22   \n",
       "4                                               NaN   2022-09-07   \n",
       "\n",
       "                        poster_path  popularity  ...  vote_average  \\\n",
       "0  /pHkKbIRoCe7zIFvqan9LFSaQAde.jpg    5088.584  ...           6.9   \n",
       "1  /xIGr7UHsKf0URWmyyd5qFMAq4d8.jpg    2172.338  ...           7.1   \n",
       "2  /hiaeZKzwsk4y4atFhmncO5KRxeT.jpg    1863.628  ...           6.8   \n",
       "3  /lr11mCT85T1JanlgjMuhs9nMht4.jpg    1071.398  ...           7.9   \n",
       "4  /dgDT3uol3mdvwEg0jt1ble3l9hw.jpg    1020.995  ...           7.0   \n",
       "\n",
       "       budget      revenue  runtime    status  adult  \\\n",
       "0         0.0    9572765.0       99  Released  False   \n",
       "1         0.0   56000000.0       93  Released  False   \n",
       "2  17000000.0   45000000.0      115  Released  False   \n",
       "3  18800000.0  161000000.0      103  Released  False   \n",
       "4         0.0          0.0        0  Released  False   \n",
       "\n",
       "                      backdrop_path                genre_names collection  \\\n",
       "0  /5GA3vV1aWWHTSDO5eno8V5zDo8r.jpg           Horror, Thriller   760193.0   \n",
       "1  /2k9tBql5GYH328Krj66tDT9LtFZ.jpg   Adventure, Drama, Horror        NaN   \n",
       "2  /mVNPfpydornVe4H4UCIk7WevWjf.jpg  Horror, Mystery, Thriller        NaN   \n",
       "3  /AfvIjhDu9p64jKcmohS4hsPG95Q.jpg           Horror, Thriller        NaN   \n",
       "4  /ojfzhdwRemcDt1I6pao6vVLw9AA.jpg                     Horror        NaN   \n",
       "\n",
       "     collection_name  \n",
       "0  Orphan Collection  \n",
       "1                NaN  \n",
       "2                NaN  \n",
       "3                NaN  \n",
       "4                NaN  \n",
       "\n",
       "[5 rows x 21 columns]"
      ]
     },
     "execution_count": 3,
     "metadata": {},
     "output_type": "execute_result"
    }
   ],
   "source": [
    "df = pd.read_csv('horror_movies.csv')\n",
    "df.head()"
   ]
  },
  {
   "cell_type": "markdown",
   "metadata": {},
   "source": [
    "## Informações do dataset"
   ]
  },
  {
   "cell_type": "code",
   "execution_count": 4,
   "metadata": {},
   "outputs": [
    {
     "name": "stdout",
     "output_type": "stream",
     "text": [
      "<class 'pandas.core.frame.DataFrame'>\n",
      "RangeIndex: 32540 entries, 0 to 32539\n",
      "Data columns (total 21 columns):\n",
      " #   Column             Non-Null Count  Dtype  \n",
      "---  ------             --------------  -----  \n",
      " 0   Unnamed: 0         32540 non-null  int64  \n",
      " 1   id                 32540 non-null  int64  \n",
      " 2   original_title     32540 non-null  object \n",
      " 3   title              32540 non-null  object \n",
      " 4   original_language  32540 non-null  object \n",
      " 5   overview           31254 non-null  object \n",
      " 6   tagline            12705 non-null  object \n",
      " 7   release_date       32540 non-null  object \n",
      " 8   poster_path        28066 non-null  object \n",
      " 9   popularity         32540 non-null  float64\n",
      " 10  vote_count         32540 non-null  int64  \n",
      " 11  vote_average       32540 non-null  float64\n",
      " 12  budget             32540 non-null  float64\n",
      " 13  revenue            32540 non-null  float64\n",
      " 14  runtime            32540 non-null  int64  \n",
      " 15  status             32540 non-null  object \n",
      " 16  adult              32540 non-null  bool   \n",
      " 17  backdrop_path      13545 non-null  object \n",
      " 18  genre_names        32540 non-null  object \n",
      " 19  collection         2306 non-null   float64\n",
      " 20  collection_name    2306 non-null   object \n",
      "dtypes: bool(1), float64(5), int64(4), object(11)\n",
      "memory usage: 5.0+ MB\n"
     ]
    }
   ],
   "source": [
    "df.info()"
   ]
  },
  {
   "cell_type": "markdown",
   "metadata": {},
   "source": [
    "## Deletando algumas variáveis "
   ]
  },
  {
   "cell_type": "code",
   "execution_count": 5,
   "metadata": {},
   "outputs": [],
   "source": [
    "df.drop(columns=['Unnamed: 0', 'id','original_title','overview','tagline',\n",
    "                'poster_path','backdrop_path','collection', 'collection_name'], axis=1, inplace=True)"
   ]
  },
  {
   "cell_type": "code",
   "execution_count": 6,
   "metadata": {},
   "outputs": [
    {
     "name": "stdout",
     "output_type": "stream",
     "text": [
      "<class 'pandas.core.frame.DataFrame'>\n",
      "RangeIndex: 32540 entries, 0 to 32539\n",
      "Data columns (total 12 columns):\n",
      " #   Column             Non-Null Count  Dtype  \n",
      "---  ------             --------------  -----  \n",
      " 0   title              32540 non-null  object \n",
      " 1   original_language  32540 non-null  object \n",
      " 2   release_date       32540 non-null  object \n",
      " 3   popularity         32540 non-null  float64\n",
      " 4   vote_count         32540 non-null  int64  \n",
      " 5   vote_average       32540 non-null  float64\n",
      " 6   budget             32540 non-null  float64\n",
      " 7   revenue            32540 non-null  float64\n",
      " 8   runtime            32540 non-null  int64  \n",
      " 9   status             32540 non-null  object \n",
      " 10  adult              32540 non-null  bool   \n",
      " 11  genre_names        32540 non-null  object \n",
      "dtypes: bool(1), float64(4), int64(2), object(5)\n",
      "memory usage: 2.8+ MB\n"
     ]
    }
   ],
   "source": [
    "df.info()"
   ]
  },
  {
   "cell_type": "markdown",
   "metadata": {},
   "source": [
    "## Mudança dos nomes das variáveis"
   ]
  },
  {
   "cell_type": "code",
   "execution_count": 7,
   "metadata": {},
   "outputs": [
    {
     "data": {
      "text/plain": [
       "Index(['title', 'original_language', 'release_date', 'popularity',\n",
       "       'vote_count', 'vote_average', 'budget', 'revenue', 'runtime', 'status',\n",
       "       'adult', 'genre_names'],\n",
       "      dtype='object')"
      ]
     },
     "execution_count": 7,
     "metadata": {},
     "output_type": "execute_result"
    }
   ],
   "source": [
    "df.columns"
   ]
  },
  {
   "cell_type": "code",
   "execution_count": 8,
   "metadata": {},
   "outputs": [
    {
     "data": {
      "text/html": [
       "<div>\n",
       "<style scoped>\n",
       "    .dataframe tbody tr th:only-of-type {\n",
       "        vertical-align: middle;\n",
       "    }\n",
       "\n",
       "    .dataframe tbody tr th {\n",
       "        vertical-align: top;\n",
       "    }\n",
       "\n",
       "    .dataframe thead th {\n",
       "        text-align: right;\n",
       "    }\n",
       "</style>\n",
       "<table border=\"1\" class=\"dataframe\">\n",
       "  <thead>\n",
       "    <tr style=\"text-align: right;\">\n",
       "      <th></th>\n",
       "      <th>título</th>\n",
       "      <th>idioma_original</th>\n",
       "      <th>lancamento</th>\n",
       "      <th>popularidade</th>\n",
       "      <th>contagem_votos</th>\n",
       "      <th>media_votos</th>\n",
       "      <th>orcamento</th>\n",
       "      <th>receita</th>\n",
       "      <th>tempo_execucao</th>\n",
       "      <th>status</th>\n",
       "      <th>adulto</th>\n",
       "      <th>genero</th>\n",
       "    </tr>\n",
       "  </thead>\n",
       "  <tbody>\n",
       "    <tr>\n",
       "      <th>0</th>\n",
       "      <td>Orphan: First Kill</td>\n",
       "      <td>en</td>\n",
       "      <td>2022-07-27</td>\n",
       "      <td>5088.584</td>\n",
       "      <td>902</td>\n",
       "      <td>6.9</td>\n",
       "      <td>0.0</td>\n",
       "      <td>9572765.0</td>\n",
       "      <td>99</td>\n",
       "      <td>Released</td>\n",
       "      <td>False</td>\n",
       "      <td>Horror, Thriller</td>\n",
       "    </tr>\n",
       "    <tr>\n",
       "      <th>1</th>\n",
       "      <td>Beast</td>\n",
       "      <td>en</td>\n",
       "      <td>2022-08-11</td>\n",
       "      <td>2172.338</td>\n",
       "      <td>584</td>\n",
       "      <td>7.1</td>\n",
       "      <td>0.0</td>\n",
       "      <td>56000000.0</td>\n",
       "      <td>93</td>\n",
       "      <td>Released</td>\n",
       "      <td>False</td>\n",
       "      <td>Adventure, Drama, Horror</td>\n",
       "    </tr>\n",
       "    <tr>\n",
       "      <th>2</th>\n",
       "      <td>Smile</td>\n",
       "      <td>en</td>\n",
       "      <td>2022-09-23</td>\n",
       "      <td>1863.628</td>\n",
       "      <td>114</td>\n",
       "      <td>6.8</td>\n",
       "      <td>17000000.0</td>\n",
       "      <td>45000000.0</td>\n",
       "      <td>115</td>\n",
       "      <td>Released</td>\n",
       "      <td>False</td>\n",
       "      <td>Horror, Mystery, Thriller</td>\n",
       "    </tr>\n",
       "    <tr>\n",
       "      <th>3</th>\n",
       "      <td>The Black Phone</td>\n",
       "      <td>en</td>\n",
       "      <td>2022-06-22</td>\n",
       "      <td>1071.398</td>\n",
       "      <td>2736</td>\n",
       "      <td>7.9</td>\n",
       "      <td>18800000.0</td>\n",
       "      <td>161000000.0</td>\n",
       "      <td>103</td>\n",
       "      <td>Released</td>\n",
       "      <td>False</td>\n",
       "      <td>Horror, Thriller</td>\n",
       "    </tr>\n",
       "    <tr>\n",
       "      <th>4</th>\n",
       "      <td>Presences</td>\n",
       "      <td>es</td>\n",
       "      <td>2022-09-07</td>\n",
       "      <td>1020.995</td>\n",
       "      <td>83</td>\n",
       "      <td>7.0</td>\n",
       "      <td>0.0</td>\n",
       "      <td>0.0</td>\n",
       "      <td>0</td>\n",
       "      <td>Released</td>\n",
       "      <td>False</td>\n",
       "      <td>Horror</td>\n",
       "    </tr>\n",
       "  </tbody>\n",
       "</table>\n",
       "</div>"
      ],
      "text/plain": [
       "               título idioma_original  lancamento  popularidade  \\\n",
       "0  Orphan: First Kill              en  2022-07-27      5088.584   \n",
       "1               Beast              en  2022-08-11      2172.338   \n",
       "2               Smile              en  2022-09-23      1863.628   \n",
       "3     The Black Phone              en  2022-06-22      1071.398   \n",
       "4           Presences              es  2022-09-07      1020.995   \n",
       "\n",
       "   contagem_votos  media_votos   orcamento      receita  tempo_execucao  \\\n",
       "0             902          6.9         0.0    9572765.0              99   \n",
       "1             584          7.1         0.0   56000000.0              93   \n",
       "2             114          6.8  17000000.0   45000000.0             115   \n",
       "3            2736          7.9  18800000.0  161000000.0             103   \n",
       "4              83          7.0         0.0          0.0               0   \n",
       "\n",
       "     status  adulto                     genero  \n",
       "0  Released   False           Horror, Thriller  \n",
       "1  Released   False   Adventure, Drama, Horror  \n",
       "2  Released   False  Horror, Mystery, Thriller  \n",
       "3  Released   False           Horror, Thriller  \n",
       "4  Released   False                     Horror  "
      ]
     },
     "execution_count": 8,
     "metadata": {},
     "output_type": "execute_result"
    }
   ],
   "source": [
    "df.columns = ['título', 'idioma_original', 'lancamento', 'popularidade','contagem_votos', 'media_votos', \n",
    "              'orcamento', 'receita', 'tempo_execucao','status', 'adulto', 'genero']\n",
    "\n",
    "df.head()"
   ]
  },
  {
   "cell_type": "markdown",
   "metadata": {},
   "source": [
    "## Verificar dados das variáveis"
   ]
  },
  {
   "cell_type": "code",
   "execution_count": 9,
   "metadata": {},
   "outputs": [
    {
     "data": {
      "text/plain": [
       "en    21923\n",
       "es     1661\n",
       "ja     1639\n",
       "pt      676\n",
       "de      631\n",
       "      ...  \n",
       "cr        1\n",
       "ps        1\n",
       "mt        1\n",
       "lg        1\n",
       "mh        1\n",
       "Name: idioma_original, Length: 97, dtype: int64"
      ]
     },
     "execution_count": 9,
     "metadata": {},
     "output_type": "execute_result"
    }
   ],
   "source": [
    "df['idioma_original'].value_counts()"
   ]
  },
  {
   "cell_type": "code",
   "execution_count": 10,
   "metadata": {},
   "outputs": [
    {
     "data": {
      "text/plain": [
       "False    32540\n",
       "Name: adulto, dtype: int64"
      ]
     },
     "execution_count": 10,
     "metadata": {},
     "output_type": "execute_result"
    }
   ],
   "source": [
    "df['adulto'].value_counts()"
   ]
  },
  {
   "cell_type": "code",
   "execution_count": 11,
   "metadata": {},
   "outputs": [
    {
     "data": {
      "text/plain": [
       "Horror                                                        12463\n",
       "Horror, Thriller                                               3260\n",
       "Comedy, Horror                                                 2844\n",
       "Drama, Horror                                                  1328\n",
       "Horror, Science Fiction                                         926\n",
       "                                                              ...  \n",
       "Comedy, Horror, Thriller, Western                                 1\n",
       "Horror, Music, Music                                              1\n",
       "History, Horror, Thriller, War                                    1\n",
       "Comedy, Horror, Romance, Science Fiction, Thriller                1\n",
       "Action, Comedy, Fantasy, Horror, Science Fiction, TV Movie        1\n",
       "Name: genero, Length: 772, dtype: int64"
      ]
     },
     "execution_count": 11,
     "metadata": {},
     "output_type": "execute_result"
    }
   ],
   "source": [
    "df['genero'].value_counts()"
   ]
  },
  {
   "cell_type": "code",
   "execution_count": 12,
   "metadata": {},
   "outputs": [
    {
     "data": {
      "text/plain": [
       "Released           32405\n",
       "In Production         69\n",
       "Post Production       61\n",
       "Planned                5\n",
       "Name: status, dtype: int64"
      ]
     },
     "execution_count": 12,
     "metadata": {},
     "output_type": "execute_result"
    }
   ],
   "source": [
    "df.status.value_counts()"
   ]
  },
  {
   "cell_type": "markdown",
   "metadata": {},
   "source": [
    "## Alguns estatísticas"
   ]
  },
  {
   "cell_type": "code",
   "execution_count": 13,
   "metadata": {},
   "outputs": [
    {
     "name": "stdout",
     "output_type": "stream",
     "text": [
      "Contagem mínima de votos: 0\n",
      "Contagem média de votos: 62.691487400122924\n",
      "Contagem mediana de votos: 2.0\n",
      "Contagem máxima de votos: 16900\n"
     ]
    }
   ],
   "source": [
    "print(f'Contagem mínima de votos: {df.contagem_votos.min()}')\n",
    "print(f'Contagem média de votos: {df.contagem_votos.mean()}')\n",
    "print(f'Contagem mediana de votos: {df.contagem_votos.median()}')\n",
    "print(f'Contagem máxima de votos: {df.contagem_votos.max()}')"
   ]
  },
  {
   "cell_type": "code",
   "execution_count": 14,
   "metadata": {},
   "outputs": [
    {
     "name": "stdout",
     "output_type": "stream",
     "text": [
      "1950-01-01\n",
      "2022-12-31\n"
     ]
    }
   ],
   "source": [
    "# Data começa janeiro de 1950 até dezembro de 2022\n",
    "print(df.lancamento.min())\n",
    "print(df.lancamento.max())"
   ]
  },
  {
   "cell_type": "code",
   "execution_count": 15,
   "metadata": {},
   "outputs": [
    {
     "data": {
      "text/plain": [
       "72"
      ]
     },
     "execution_count": 15,
     "metadata": {},
     "output_type": "execute_result"
    }
   ],
   "source": [
    "# 72 anos de filmes\n",
    "2022-1950"
   ]
  },
  {
   "cell_type": "code",
   "execution_count": 16,
   "metadata": {},
   "outputs": [
    {
     "name": "stdout",
     "output_type": "stream",
     "text": [
      "0.0\n",
      "10.0\n"
     ]
    }
   ],
   "source": [
    "print(df.media_votos.min())\n",
    "print(df.media_votos.max())"
   ]
  },
  {
   "cell_type": "markdown",
   "metadata": {},
   "source": [
    "## Filtro de dados"
   ]
  },
  {
   "cell_type": "markdown",
   "metadata": {},
   "source": [
    "**Somente filmes na lingua inglesa, com orçamento alto**"
   ]
  },
  {
   "cell_type": "code",
   "execution_count": 17,
   "metadata": {
    "scrolled": false
   },
   "outputs": [
    {
     "data": {
      "text/html": [
       "<div>\n",
       "<style scoped>\n",
       "    .dataframe tbody tr th:only-of-type {\n",
       "        vertical-align: middle;\n",
       "    }\n",
       "\n",
       "    .dataframe tbody tr th {\n",
       "        vertical-align: top;\n",
       "    }\n",
       "\n",
       "    .dataframe thead th {\n",
       "        text-align: right;\n",
       "    }\n",
       "</style>\n",
       "<table border=\"1\" class=\"dataframe\">\n",
       "  <thead>\n",
       "    <tr style=\"text-align: right;\">\n",
       "      <th></th>\n",
       "      <th>título</th>\n",
       "      <th>idioma_original</th>\n",
       "      <th>lancamento</th>\n",
       "      <th>popularidade</th>\n",
       "      <th>contagem_votos</th>\n",
       "      <th>media_votos</th>\n",
       "      <th>orcamento</th>\n",
       "      <th>receita</th>\n",
       "      <th>tempo_execucao</th>\n",
       "      <th>status</th>\n",
       "      <th>adulto</th>\n",
       "      <th>genero</th>\n",
       "    </tr>\n",
       "  </thead>\n",
       "  <tbody>\n",
       "    <tr>\n",
       "      <th>7</th>\n",
       "      <td>Nope</td>\n",
       "      <td>en</td>\n",
       "      <td>2022-07-20</td>\n",
       "      <td>733.112</td>\n",
       "      <td>1684</td>\n",
       "      <td>7.0</td>\n",
       "      <td>68000000.0</td>\n",
       "      <td>170800000.0</td>\n",
       "      <td>130</td>\n",
       "      <td>Released</td>\n",
       "      <td>False</td>\n",
       "      <td>Horror, Mystery, Science Fiction, Thriller</td>\n",
       "    </tr>\n",
       "    <tr>\n",
       "      <th>41</th>\n",
       "      <td>It Chapter Two</td>\n",
       "      <td>en</td>\n",
       "      <td>2019-09-04</td>\n",
       "      <td>230.451</td>\n",
       "      <td>7221</td>\n",
       "      <td>6.9</td>\n",
       "      <td>79000000.0</td>\n",
       "      <td>473122525.0</td>\n",
       "      <td>170</td>\n",
       "      <td>Released</td>\n",
       "      <td>False</td>\n",
       "      <td>Fantasy, Horror</td>\n",
       "    </tr>\n",
       "    <tr>\n",
       "      <th>65</th>\n",
       "      <td>A Quiet Place Part II</td>\n",
       "      <td>en</td>\n",
       "      <td>2021-05-21</td>\n",
       "      <td>153.956</td>\n",
       "      <td>4721</td>\n",
       "      <td>7.6</td>\n",
       "      <td>61000000.0</td>\n",
       "      <td>297372261.0</td>\n",
       "      <td>97</td>\n",
       "      <td>Released</td>\n",
       "      <td>False</td>\n",
       "      <td>Horror, Science Fiction, Thriller</td>\n",
       "    </tr>\n",
       "    <tr>\n",
       "      <th>78</th>\n",
       "      <td>World War Z</td>\n",
       "      <td>en</td>\n",
       "      <td>2013-06-20</td>\n",
       "      <td>131.399</td>\n",
       "      <td>13440</td>\n",
       "      <td>6.8</td>\n",
       "      <td>200000000.0</td>\n",
       "      <td>531865000.0</td>\n",
       "      <td>116</td>\n",
       "      <td>Released</td>\n",
       "      <td>False</td>\n",
       "      <td>Action, Drama, Horror, Science Fiction, Thriller</td>\n",
       "    </tr>\n",
       "    <tr>\n",
       "      <th>87</th>\n",
       "      <td>Constantine</td>\n",
       "      <td>en</td>\n",
       "      <td>2005-02-08</td>\n",
       "      <td>119.677</td>\n",
       "      <td>5863</td>\n",
       "      <td>7.0</td>\n",
       "      <td>100000000.0</td>\n",
       "      <td>230884728.0</td>\n",
       "      <td>121</td>\n",
       "      <td>Released</td>\n",
       "      <td>False</td>\n",
       "      <td>Action, Fantasy, Horror</td>\n",
       "    </tr>\n",
       "    <tr>\n",
       "      <th>91</th>\n",
       "      <td>The Meg</td>\n",
       "      <td>en</td>\n",
       "      <td>2018-08-09</td>\n",
       "      <td>116.512</td>\n",
       "      <td>6068</td>\n",
       "      <td>6.2</td>\n",
       "      <td>150000000.0</td>\n",
       "      <td>530243742.0</td>\n",
       "      <td>113</td>\n",
       "      <td>Released</td>\n",
       "      <td>False</td>\n",
       "      <td>Action, Horror, Science Fiction</td>\n",
       "    </tr>\n",
       "    <tr>\n",
       "      <th>113</th>\n",
       "      <td>Abraham Lincoln: Vampire Hunter</td>\n",
       "      <td>en</td>\n",
       "      <td>2012-06-20</td>\n",
       "      <td>103.000</td>\n",
       "      <td>2855</td>\n",
       "      <td>5.7</td>\n",
       "      <td>69000000.0</td>\n",
       "      <td>116471580.0</td>\n",
       "      <td>94</td>\n",
       "      <td>Released</td>\n",
       "      <td>False</td>\n",
       "      <td>Action, Fantasy, Horror</td>\n",
       "    </tr>\n",
       "    <tr>\n",
       "      <th>162</th>\n",
       "      <td>Hansel &amp; Gretel: Witch Hunters</td>\n",
       "      <td>en</td>\n",
       "      <td>2013-01-17</td>\n",
       "      <td>75.400</td>\n",
       "      <td>6015</td>\n",
       "      <td>6.0</td>\n",
       "      <td>50000000.0</td>\n",
       "      <td>226349749.0</td>\n",
       "      <td>88</td>\n",
       "      <td>Released</td>\n",
       "      <td>False</td>\n",
       "      <td>Action, Fantasy, Horror</td>\n",
       "    </tr>\n",
       "  </tbody>\n",
       "</table>\n",
       "</div>"
      ],
      "text/plain": [
       "                              título idioma_original  lancamento  \\\n",
       "7                               Nope              en  2022-07-20   \n",
       "41                    It Chapter Two              en  2019-09-04   \n",
       "65             A Quiet Place Part II              en  2021-05-21   \n",
       "78                       World War Z              en  2013-06-20   \n",
       "87                       Constantine              en  2005-02-08   \n",
       "91                           The Meg              en  2018-08-09   \n",
       "113  Abraham Lincoln: Vampire Hunter              en  2012-06-20   \n",
       "162   Hansel & Gretel: Witch Hunters              en  2013-01-17   \n",
       "\n",
       "     popularidade  contagem_votos  media_votos    orcamento      receita  \\\n",
       "7         733.112            1684          7.0   68000000.0  170800000.0   \n",
       "41        230.451            7221          6.9   79000000.0  473122525.0   \n",
       "65        153.956            4721          7.6   61000000.0  297372261.0   \n",
       "78        131.399           13440          6.8  200000000.0  531865000.0   \n",
       "87        119.677            5863          7.0  100000000.0  230884728.0   \n",
       "91        116.512            6068          6.2  150000000.0  530243742.0   \n",
       "113       103.000            2855          5.7   69000000.0  116471580.0   \n",
       "162        75.400            6015          6.0   50000000.0  226349749.0   \n",
       "\n",
       "     tempo_execucao    status  adulto  \\\n",
       "7               130  Released   False   \n",
       "41              170  Released   False   \n",
       "65               97  Released   False   \n",
       "78              116  Released   False   \n",
       "87              121  Released   False   \n",
       "91              113  Released   False   \n",
       "113              94  Released   False   \n",
       "162              88  Released   False   \n",
       "\n",
       "                                               genero  \n",
       "7          Horror, Mystery, Science Fiction, Thriller  \n",
       "41                                    Fantasy, Horror  \n",
       "65                  Horror, Science Fiction, Thriller  \n",
       "78   Action, Drama, Horror, Science Fiction, Thriller  \n",
       "87                            Action, Fantasy, Horror  \n",
       "91                    Action, Horror, Science Fiction  \n",
       "113                           Action, Fantasy, Horror  \n",
       "162                           Action, Fantasy, Horror  "
      ]
     },
     "execution_count": 17,
     "metadata": {},
     "output_type": "execute_result"
    }
   ],
   "source": [
    "ingles = df.query('idioma_original == \"en\" and orcamento >= 45000000.0').head(8)\n",
    "ingles"
   ]
  },
  {
   "cell_type": "markdown",
   "metadata": {},
   "source": [
    "**Filmes com linguagem diferentes do inglês**"
   ]
  },
  {
   "cell_type": "code",
   "execution_count": 18,
   "metadata": {
    "scrolled": false
   },
   "outputs": [
    {
     "data": {
      "text/html": [
       "<div>\n",
       "<style scoped>\n",
       "    .dataframe tbody tr th:only-of-type {\n",
       "        vertical-align: middle;\n",
       "    }\n",
       "\n",
       "    .dataframe tbody tr th {\n",
       "        vertical-align: top;\n",
       "    }\n",
       "\n",
       "    .dataframe thead th {\n",
       "        text-align: right;\n",
       "    }\n",
       "</style>\n",
       "<table border=\"1\" class=\"dataframe\">\n",
       "  <thead>\n",
       "    <tr style=\"text-align: right;\">\n",
       "      <th></th>\n",
       "      <th>título</th>\n",
       "      <th>idioma_original</th>\n",
       "      <th>lancamento</th>\n",
       "      <th>popularidade</th>\n",
       "      <th>contagem_votos</th>\n",
       "      <th>media_votos</th>\n",
       "      <th>orcamento</th>\n",
       "      <th>receita</th>\n",
       "      <th>tempo_execucao</th>\n",
       "      <th>status</th>\n",
       "      <th>adulto</th>\n",
       "      <th>genero</th>\n",
       "    </tr>\n",
       "  </thead>\n",
       "  <tbody>\n",
       "    <tr>\n",
       "      <th>25658</th>\n",
       "      <td>Ninceto 90</td>\n",
       "      <td>pt</td>\n",
       "      <td>2012-06-01</td>\n",
       "      <td>0.6</td>\n",
       "      <td>0</td>\n",
       "      <td>0.0</td>\n",
       "      <td>100000000.0</td>\n",
       "      <td>0.0</td>\n",
       "      <td>13</td>\n",
       "      <td>Released</td>\n",
       "      <td>False</td>\n",
       "      <td>Action, Animation, Crime, Documentary, Drama, ...</td>\n",
       "    </tr>\n",
       "    <tr>\n",
       "      <th>30557</th>\n",
       "      <td>Damn, We Went Back to The Convent</td>\n",
       "      <td>pt</td>\n",
       "      <td>2011-06-01</td>\n",
       "      <td>0.6</td>\n",
       "      <td>0</td>\n",
       "      <td>0.0</td>\n",
       "      <td>50000000.0</td>\n",
       "      <td>0.0</td>\n",
       "      <td>10</td>\n",
       "      <td>Released</td>\n",
       "      <td>False</td>\n",
       "      <td>Family, Fantasy, Horror, Science Fiction</td>\n",
       "    </tr>\n",
       "  </tbody>\n",
       "</table>\n",
       "</div>"
      ],
      "text/plain": [
       "                                  título idioma_original  lancamento  \\\n",
       "25658                         Ninceto 90              pt  2012-06-01   \n",
       "30557  Damn, We Went Back to The Convent              pt  2011-06-01   \n",
       "\n",
       "       popularidade  contagem_votos  media_votos    orcamento  receita  \\\n",
       "25658           0.6               0          0.0  100000000.0      0.0   \n",
       "30557           0.6               0          0.0   50000000.0      0.0   \n",
       "\n",
       "       tempo_execucao    status  adulto  \\\n",
       "25658              13  Released   False   \n",
       "30557              10  Released   False   \n",
       "\n",
       "                                                  genero  \n",
       "25658  Action, Animation, Crime, Documentary, Drama, ...  \n",
       "30557           Family, Fantasy, Horror, Science Fiction  "
      ]
     },
     "execution_count": 18,
     "metadata": {},
     "output_type": "execute_result"
    }
   ],
   "source": [
    "outras = df.query('idioma_original != \"en\" and orcamento >= 45000000.0').head(8)\n",
    "outras"
   ]
  },
  {
   "cell_type": "markdown",
   "metadata": {},
   "source": [
    "**Somente filmes na lingua espanhol, com orçamento alto**\n"
   ]
  },
  {
   "cell_type": "code",
   "execution_count": 19,
   "metadata": {},
   "outputs": [
    {
     "data": {
      "text/plain": [
       "13000000.0"
      ]
     },
     "execution_count": 19,
     "metadata": {},
     "output_type": "execute_result"
    }
   ],
   "source": [
    "en = df.query('idioma_original == \"es\"')\n",
    "en.orcamento.max()"
   ]
  },
  {
   "cell_type": "code",
   "execution_count": 20,
   "metadata": {},
   "outputs": [
    {
     "data": {
      "text/html": [
       "<div>\n",
       "<style scoped>\n",
       "    .dataframe tbody tr th:only-of-type {\n",
       "        vertical-align: middle;\n",
       "    }\n",
       "\n",
       "    .dataframe tbody tr th {\n",
       "        vertical-align: top;\n",
       "    }\n",
       "\n",
       "    .dataframe thead th {\n",
       "        text-align: right;\n",
       "    }\n",
       "</style>\n",
       "<table border=\"1\" class=\"dataframe\">\n",
       "  <thead>\n",
       "    <tr style=\"text-align: right;\">\n",
       "      <th></th>\n",
       "      <th>título</th>\n",
       "      <th>idioma_original</th>\n",
       "      <th>lancamento</th>\n",
       "      <th>popularidade</th>\n",
       "      <th>contagem_votos</th>\n",
       "      <th>media_votos</th>\n",
       "      <th>orcamento</th>\n",
       "      <th>receita</th>\n",
       "      <th>tempo_execucao</th>\n",
       "      <th>status</th>\n",
       "      <th>adulto</th>\n",
       "      <th>genero</th>\n",
       "    </tr>\n",
       "  </thead>\n",
       "  <tbody>\n",
       "    <tr>\n",
       "      <th>344</th>\n",
       "      <td>[REC]³ Genesis</td>\n",
       "      <td>es</td>\n",
       "      <td>2012-03-30</td>\n",
       "      <td>44.643</td>\n",
       "      <td>1221</td>\n",
       "      <td>5.2</td>\n",
       "      <td>6400000.0</td>\n",
       "      <td>11019975.0</td>\n",
       "      <td>80</td>\n",
       "      <td>Released</td>\n",
       "      <td>False</td>\n",
       "      <td>Horror</td>\n",
       "    </tr>\n",
       "    <tr>\n",
       "      <th>446</th>\n",
       "      <td>[REC]²</td>\n",
       "      <td>es</td>\n",
       "      <td>2009-09-15</td>\n",
       "      <td>37.108</td>\n",
       "      <td>1652</td>\n",
       "      <td>6.6</td>\n",
       "      <td>5600000.0</td>\n",
       "      <td>18469680.0</td>\n",
       "      <td>85</td>\n",
       "      <td>Released</td>\n",
       "      <td>False</td>\n",
       "      <td>Horror, Thriller</td>\n",
       "    </tr>\n",
       "    <tr>\n",
       "      <th>548</th>\n",
       "      <td>The Skin I Live In</td>\n",
       "      <td>es</td>\n",
       "      <td>2011-08-17</td>\n",
       "      <td>29.657</td>\n",
       "      <td>3601</td>\n",
       "      <td>7.5</td>\n",
       "      <td>13000000.0</td>\n",
       "      <td>33750478.0</td>\n",
       "      <td>120</td>\n",
       "      <td>Released</td>\n",
       "      <td>False</td>\n",
       "      <td>Drama, Horror, Thriller</td>\n",
       "    </tr>\n",
       "    <tr>\n",
       "      <th>770</th>\n",
       "      <td>The Bar</td>\n",
       "      <td>es</td>\n",
       "      <td>2017-02-15</td>\n",
       "      <td>22.662</td>\n",
       "      <td>1149</td>\n",
       "      <td>6.3</td>\n",
       "      <td>6045750.0</td>\n",
       "      <td>3662671.0</td>\n",
       "      <td>102</td>\n",
       "      <td>Released</td>\n",
       "      <td>False</td>\n",
       "      <td>Comedy, Horror, Thriller</td>\n",
       "    </tr>\n",
       "    <tr>\n",
       "      <th>854</th>\n",
       "      <td>Sleep Tight</td>\n",
       "      <td>es</td>\n",
       "      <td>2011-10-14</td>\n",
       "      <td>20.479</td>\n",
       "      <td>866</td>\n",
       "      <td>7.1</td>\n",
       "      <td>5000000.0</td>\n",
       "      <td>0.0</td>\n",
       "      <td>97</td>\n",
       "      <td>Released</td>\n",
       "      <td>False</td>\n",
       "      <td>Horror, Thriller</td>\n",
       "    </tr>\n",
       "    <tr>\n",
       "      <th>862</th>\n",
       "      <td>Witching &amp; Bitching</td>\n",
       "      <td>es</td>\n",
       "      <td>2013-09-20</td>\n",
       "      <td>20.292</td>\n",
       "      <td>554</td>\n",
       "      <td>6.3</td>\n",
       "      <td>8000000.0</td>\n",
       "      <td>0.0</td>\n",
       "      <td>110</td>\n",
       "      <td>Released</td>\n",
       "      <td>False</td>\n",
       "      <td>Comedy, Horror</td>\n",
       "    </tr>\n",
       "    <tr>\n",
       "      <th>2811</th>\n",
       "      <td>The Last Circus</td>\n",
       "      <td>es</td>\n",
       "      <td>2010-12-17</td>\n",
       "      <td>7.349</td>\n",
       "      <td>336</td>\n",
       "      <td>6.6</td>\n",
       "      <td>7000000.0</td>\n",
       "      <td>3604598.0</td>\n",
       "      <td>101</td>\n",
       "      <td>Released</td>\n",
       "      <td>False</td>\n",
       "      <td>Adventure, Comedy, Drama, Horror, Thriller</td>\n",
       "    </tr>\n",
       "  </tbody>\n",
       "</table>\n",
       "</div>"
      ],
      "text/plain": [
       "                   título idioma_original  lancamento  popularidade  \\\n",
       "344        [REC]³ Genesis              es  2012-03-30        44.643   \n",
       "446                [REC]²              es  2009-09-15        37.108   \n",
       "548    The Skin I Live In              es  2011-08-17        29.657   \n",
       "770               The Bar              es  2017-02-15        22.662   \n",
       "854           Sleep Tight              es  2011-10-14        20.479   \n",
       "862   Witching & Bitching              es  2013-09-20        20.292   \n",
       "2811      The Last Circus              es  2010-12-17         7.349   \n",
       "\n",
       "      contagem_votos  media_votos   orcamento     receita  tempo_execucao  \\\n",
       "344             1221          5.2   6400000.0  11019975.0              80   \n",
       "446             1652          6.6   5600000.0  18469680.0              85   \n",
       "548             3601          7.5  13000000.0  33750478.0             120   \n",
       "770             1149          6.3   6045750.0   3662671.0             102   \n",
       "854              866          7.1   5000000.0         0.0              97   \n",
       "862              554          6.3   8000000.0         0.0             110   \n",
       "2811             336          6.6   7000000.0   3604598.0             101   \n",
       "\n",
       "        status  adulto                                      genero  \n",
       "344   Released   False                                      Horror  \n",
       "446   Released   False                            Horror, Thriller  \n",
       "548   Released   False                     Drama, Horror, Thriller  \n",
       "770   Released   False                    Comedy, Horror, Thriller  \n",
       "854   Released   False                            Horror, Thriller  \n",
       "862   Released   False                              Comedy, Horror  \n",
       "2811  Released   False  Adventure, Comedy, Drama, Horror, Thriller  "
      ]
     },
     "execution_count": 20,
     "metadata": {},
     "output_type": "execute_result"
    }
   ],
   "source": [
    "en = df.query('idioma_original == \"es\" and orcamento >= 5000000.0')\n",
    "en"
   ]
  },
  {
   "cell_type": "markdown",
   "metadata": {},
   "source": [
    "**Somente filmes na lingua Japão, com orçamento alto**\n"
   ]
  },
  {
   "cell_type": "code",
   "execution_count": 21,
   "metadata": {},
   "outputs": [
    {
     "data": {
      "text/plain": [
       "34600000.0"
      ]
     },
     "execution_count": 21,
     "metadata": {},
     "output_type": "execute_result"
    }
   ],
   "source": [
    "jp = df.query('idioma_original == \"ja\"')\n",
    "jp.orcamento.max()"
   ]
  },
  {
   "cell_type": "code",
   "execution_count": 22,
   "metadata": {},
   "outputs": [
    {
     "data": {
      "text/html": [
       "<div>\n",
       "<style scoped>\n",
       "    .dataframe tbody tr th:only-of-type {\n",
       "        vertical-align: middle;\n",
       "    }\n",
       "\n",
       "    .dataframe tbody tr th {\n",
       "        vertical-align: top;\n",
       "    }\n",
       "\n",
       "    .dataframe thead th {\n",
       "        text-align: right;\n",
       "    }\n",
       "</style>\n",
       "<table border=\"1\" class=\"dataframe\">\n",
       "  <thead>\n",
       "    <tr style=\"text-align: right;\">\n",
       "      <th></th>\n",
       "      <th>título</th>\n",
       "      <th>idioma_original</th>\n",
       "      <th>lancamento</th>\n",
       "      <th>popularidade</th>\n",
       "      <th>contagem_votos</th>\n",
       "      <th>media_votos</th>\n",
       "      <th>orcamento</th>\n",
       "      <th>receita</th>\n",
       "      <th>tempo_execucao</th>\n",
       "      <th>status</th>\n",
       "      <th>adulto</th>\n",
       "      <th>genero</th>\n",
       "    </tr>\n",
       "  </thead>\n",
       "  <tbody>\n",
       "    <tr>\n",
       "      <th>482</th>\n",
       "      <td>Shin Godzilla</td>\n",
       "      <td>ja</td>\n",
       "      <td>2016-07-29</td>\n",
       "      <td>34.129</td>\n",
       "      <td>866</td>\n",
       "      <td>7.1</td>\n",
       "      <td>15000000.0</td>\n",
       "      <td>77947607.0</td>\n",
       "      <td>120</td>\n",
       "      <td>Released</td>\n",
       "      <td>False</td>\n",
       "      <td>Action, Horror, Science Fiction</td>\n",
       "    </tr>\n",
       "    <tr>\n",
       "      <th>1167</th>\n",
       "      <td>Ju-on: The Grudge 2</td>\n",
       "      <td>ja</td>\n",
       "      <td>2003-08-15</td>\n",
       "      <td>15.602</td>\n",
       "      <td>249</td>\n",
       "      <td>6.3</td>\n",
       "      <td>20000000.0</td>\n",
       "      <td>70700000.0</td>\n",
       "      <td>92</td>\n",
       "      <td>Released</td>\n",
       "      <td>False</td>\n",
       "      <td>Horror, Thriller</td>\n",
       "    </tr>\n",
       "    <tr>\n",
       "      <th>1516</th>\n",
       "      <td>Pulse</td>\n",
       "      <td>ja</td>\n",
       "      <td>2001-02-03</td>\n",
       "      <td>12.296</td>\n",
       "      <td>343</td>\n",
       "      <td>6.6</td>\n",
       "      <td>25000000.0</td>\n",
       "      <td>318451.0</td>\n",
       "      <td>119</td>\n",
       "      <td>Released</td>\n",
       "      <td>False</td>\n",
       "      <td>Horror, Mystery, Thriller</td>\n",
       "    </tr>\n",
       "    <tr>\n",
       "      <th>2176</th>\n",
       "      <td>Virus</td>\n",
       "      <td>ja</td>\n",
       "      <td>1980-06-26</td>\n",
       "      <td>9.077</td>\n",
       "      <td>45</td>\n",
       "      <td>6.3</td>\n",
       "      <td>16000000.0</td>\n",
       "      <td>0.0</td>\n",
       "      <td>156</td>\n",
       "      <td>Released</td>\n",
       "      <td>False</td>\n",
       "      <td>Drama, Horror, Science Fiction</td>\n",
       "    </tr>\n",
       "    <tr>\n",
       "      <th>3826</th>\n",
       "      <td>A Slit-Mouthed Woman</td>\n",
       "      <td>ja</td>\n",
       "      <td>2007-03-16</td>\n",
       "      <td>5.422</td>\n",
       "      <td>90</td>\n",
       "      <td>6.0</td>\n",
       "      <td>34600000.0</td>\n",
       "      <td>45900000.0</td>\n",
       "      <td>90</td>\n",
       "      <td>Released</td>\n",
       "      <td>False</td>\n",
       "      <td>Horror</td>\n",
       "    </tr>\n",
       "  </tbody>\n",
       "</table>\n",
       "</div>"
      ],
      "text/plain": [
       "                    título idioma_original  lancamento  popularidade  \\\n",
       "482          Shin Godzilla              ja  2016-07-29        34.129   \n",
       "1167   Ju-on: The Grudge 2              ja  2003-08-15        15.602   \n",
       "1516                 Pulse              ja  2001-02-03        12.296   \n",
       "2176                 Virus              ja  1980-06-26         9.077   \n",
       "3826  A Slit-Mouthed Woman              ja  2007-03-16         5.422   \n",
       "\n",
       "      contagem_votos  media_votos   orcamento     receita  tempo_execucao  \\\n",
       "482              866          7.1  15000000.0  77947607.0             120   \n",
       "1167             249          6.3  20000000.0  70700000.0              92   \n",
       "1516             343          6.6  25000000.0    318451.0             119   \n",
       "2176              45          6.3  16000000.0         0.0             156   \n",
       "3826              90          6.0  34600000.0  45900000.0              90   \n",
       "\n",
       "        status  adulto                           genero  \n",
       "482   Released   False  Action, Horror, Science Fiction  \n",
       "1167  Released   False                 Horror, Thriller  \n",
       "1516  Released   False        Horror, Mystery, Thriller  \n",
       "2176  Released   False   Drama, Horror, Science Fiction  \n",
       "3826  Released   False                           Horror  "
      ]
     },
     "execution_count": 22,
     "metadata": {},
     "output_type": "execute_result"
    }
   ],
   "source": [
    "jp = df.query('idioma_original == \"ja\" and orcamento >= 14600000.0')\n",
    "jp"
   ]
  },
  {
   "cell_type": "markdown",
   "metadata": {},
   "source": [
    "**Somente filmes na lingua Português, com orçamento alto**\n",
    "\n"
   ]
  },
  {
   "cell_type": "code",
   "execution_count": 23,
   "metadata": {},
   "outputs": [
    {
     "data": {
      "text/plain": [
       "100000000.0"
      ]
     },
     "execution_count": 23,
     "metadata": {},
     "output_type": "execute_result"
    }
   ],
   "source": [
    "pt = df.query('idioma_original == \"pt\"')\n",
    "pt.orcamento.max()"
   ]
  },
  {
   "cell_type": "code",
   "execution_count": 24,
   "metadata": {},
   "outputs": [
    {
     "data": {
      "text/html": [
       "<div>\n",
       "<style scoped>\n",
       "    .dataframe tbody tr th:only-of-type {\n",
       "        vertical-align: middle;\n",
       "    }\n",
       "\n",
       "    .dataframe tbody tr th {\n",
       "        vertical-align: top;\n",
       "    }\n",
       "\n",
       "    .dataframe thead th {\n",
       "        text-align: right;\n",
       "    }\n",
       "</style>\n",
       "<table border=\"1\" class=\"dataframe\">\n",
       "  <thead>\n",
       "    <tr style=\"text-align: right;\">\n",
       "      <th></th>\n",
       "      <th>título</th>\n",
       "      <th>idioma_original</th>\n",
       "      <th>lancamento</th>\n",
       "      <th>popularidade</th>\n",
       "      <th>contagem_votos</th>\n",
       "      <th>media_votos</th>\n",
       "      <th>orcamento</th>\n",
       "      <th>receita</th>\n",
       "      <th>tempo_execucao</th>\n",
       "      <th>status</th>\n",
       "      <th>adulto</th>\n",
       "      <th>genero</th>\n",
       "    </tr>\n",
       "  </thead>\n",
       "  <tbody>\n",
       "    <tr>\n",
       "      <th>9483</th>\n",
       "      <td>The Trace We Leave Behind</td>\n",
       "      <td>pt</td>\n",
       "      <td>2017-05-18</td>\n",
       "      <td>1.846</td>\n",
       "      <td>40</td>\n",
       "      <td>4.7</td>\n",
       "      <td>4000000.0</td>\n",
       "      <td>0.0</td>\n",
       "      <td>90</td>\n",
       "      <td>Released</td>\n",
       "      <td>False</td>\n",
       "      <td>Horror, Thriller</td>\n",
       "    </tr>\n",
       "    <tr>\n",
       "      <th>25658</th>\n",
       "      <td>Ninceto 90</td>\n",
       "      <td>pt</td>\n",
       "      <td>2012-06-01</td>\n",
       "      <td>0.600</td>\n",
       "      <td>0</td>\n",
       "      <td>0.0</td>\n",
       "      <td>100000000.0</td>\n",
       "      <td>0.0</td>\n",
       "      <td>13</td>\n",
       "      <td>Released</td>\n",
       "      <td>False</td>\n",
       "      <td>Action, Animation, Crime, Documentary, Drama, ...</td>\n",
       "    </tr>\n",
       "    <tr>\n",
       "      <th>30557</th>\n",
       "      <td>Damn, We Went Back to The Convent</td>\n",
       "      <td>pt</td>\n",
       "      <td>2011-06-01</td>\n",
       "      <td>0.600</td>\n",
       "      <td>0</td>\n",
       "      <td>0.0</td>\n",
       "      <td>50000000.0</td>\n",
       "      <td>0.0</td>\n",
       "      <td>10</td>\n",
       "      <td>Released</td>\n",
       "      <td>False</td>\n",
       "      <td>Family, Fantasy, Horror, Science Fiction</td>\n",
       "    </tr>\n",
       "  </tbody>\n",
       "</table>\n",
       "</div>"
      ],
      "text/plain": [
       "                                  título idioma_original  lancamento  \\\n",
       "9483           The Trace We Leave Behind              pt  2017-05-18   \n",
       "25658                         Ninceto 90              pt  2012-06-01   \n",
       "30557  Damn, We Went Back to The Convent              pt  2011-06-01   \n",
       "\n",
       "       popularidade  contagem_votos  media_votos    orcamento  receita  \\\n",
       "9483          1.846              40          4.7    4000000.0      0.0   \n",
       "25658         0.600               0          0.0  100000000.0      0.0   \n",
       "30557         0.600               0          0.0   50000000.0      0.0   \n",
       "\n",
       "       tempo_execucao    status  adulto  \\\n",
       "9483               90  Released   False   \n",
       "25658              13  Released   False   \n",
       "30557              10  Released   False   \n",
       "\n",
       "                                                  genero  \n",
       "9483                                    Horror, Thriller  \n",
       "25658  Action, Animation, Crime, Documentary, Drama, ...  \n",
       "30557           Family, Fantasy, Horror, Science Fiction  "
      ]
     },
     "execution_count": 24,
     "metadata": {},
     "output_type": "execute_result"
    }
   ],
   "source": [
    "pt = df.query('idioma_original == \"pt\" and orcamento >= 2000000.0')\n",
    "pt"
   ]
  },
  {
   "cell_type": "markdown",
   "metadata": {},
   "source": [
    "**Filmes com média maiores ou igual a 9**"
   ]
  },
  {
   "cell_type": "code",
   "execution_count": 25,
   "metadata": {},
   "outputs": [
    {
     "data": {
      "text/html": [
       "<div>\n",
       "<style scoped>\n",
       "    .dataframe tbody tr th:only-of-type {\n",
       "        vertical-align: middle;\n",
       "    }\n",
       "\n",
       "    .dataframe tbody tr th {\n",
       "        vertical-align: top;\n",
       "    }\n",
       "\n",
       "    .dataframe thead th {\n",
       "        text-align: right;\n",
       "    }\n",
       "</style>\n",
       "<table border=\"1\" class=\"dataframe\">\n",
       "  <thead>\n",
       "    <tr style=\"text-align: right;\">\n",
       "      <th></th>\n",
       "      <th>título</th>\n",
       "      <th>idioma_original</th>\n",
       "      <th>lancamento</th>\n",
       "      <th>popularidade</th>\n",
       "      <th>contagem_votos</th>\n",
       "      <th>media_votos</th>\n",
       "      <th>orcamento</th>\n",
       "      <th>receita</th>\n",
       "      <th>tempo_execucao</th>\n",
       "      <th>status</th>\n",
       "      <th>adulto</th>\n",
       "      <th>genero</th>\n",
       "    </tr>\n",
       "  </thead>\n",
       "  <tbody>\n",
       "    <tr>\n",
       "      <th>28</th>\n",
       "      <td>Halloween Ends</td>\n",
       "      <td>en</td>\n",
       "      <td>2022-10-12</td>\n",
       "      <td>270.269</td>\n",
       "      <td>2</td>\n",
       "      <td>10.0</td>\n",
       "      <td>20000000.0</td>\n",
       "      <td>0.0</td>\n",
       "      <td>111</td>\n",
       "      <td>Released</td>\n",
       "      <td>False</td>\n",
       "      <td>Horror, Mystery, Thriller</td>\n",
       "    </tr>\n",
       "    <tr>\n",
       "      <th>954</th>\n",
       "      <td>Feed Me</td>\n",
       "      <td>en</td>\n",
       "      <td>2022-10-06</td>\n",
       "      <td>18.403</td>\n",
       "      <td>1</td>\n",
       "      <td>10.0</td>\n",
       "      <td>0.0</td>\n",
       "      <td>0.0</td>\n",
       "      <td>0</td>\n",
       "      <td>Released</td>\n",
       "      <td>False</td>\n",
       "      <td>Comedy, Horror</td>\n",
       "    </tr>\n",
       "    <tr>\n",
       "      <th>3508</th>\n",
       "      <td>The Nightmare</td>\n",
       "      <td>no</td>\n",
       "      <td>2022-10-01</td>\n",
       "      <td>5.948</td>\n",
       "      <td>1</td>\n",
       "      <td>10.0</td>\n",
       "      <td>0.0</td>\n",
       "      <td>0.0</td>\n",
       "      <td>100</td>\n",
       "      <td>Released</td>\n",
       "      <td>False</td>\n",
       "      <td>Drama, Horror</td>\n",
       "    </tr>\n",
       "    <tr>\n",
       "      <th>4189</th>\n",
       "      <td>Spookiz: The Movie</td>\n",
       "      <td>ko</td>\n",
       "      <td>2020-08-16</td>\n",
       "      <td>4.927</td>\n",
       "      <td>1</td>\n",
       "      <td>10.0</td>\n",
       "      <td>0.0</td>\n",
       "      <td>0.0</td>\n",
       "      <td>82</td>\n",
       "      <td>Released</td>\n",
       "      <td>False</td>\n",
       "      <td>Animation, Comedy, Family, Horror</td>\n",
       "    </tr>\n",
       "    <tr>\n",
       "      <th>4230</th>\n",
       "      <td>SCP: Dollhouse</td>\n",
       "      <td>en</td>\n",
       "      <td>2019-08-23</td>\n",
       "      <td>4.847</td>\n",
       "      <td>6</td>\n",
       "      <td>9.0</td>\n",
       "      <td>2000.0</td>\n",
       "      <td>0.0</td>\n",
       "      <td>17</td>\n",
       "      <td>Released</td>\n",
       "      <td>False</td>\n",
       "      <td>Horror</td>\n",
       "    </tr>\n",
       "    <tr>\n",
       "      <th>4247</th>\n",
       "      <td>Exorcist Vengeance</td>\n",
       "      <td>en</td>\n",
       "      <td>2022-05-30</td>\n",
       "      <td>4.826</td>\n",
       "      <td>1</td>\n",
       "      <td>10.0</td>\n",
       "      <td>0.0</td>\n",
       "      <td>0.0</td>\n",
       "      <td>87</td>\n",
       "      <td>Released</td>\n",
       "      <td>False</td>\n",
       "      <td>Action, Horror</td>\n",
       "    </tr>\n",
       "  </tbody>\n",
       "</table>\n",
       "</div>"
      ],
      "text/plain": [
       "                  título idioma_original  lancamento  popularidade  \\\n",
       "28        Halloween Ends              en  2022-10-12       270.269   \n",
       "954              Feed Me              en  2022-10-06        18.403   \n",
       "3508       The Nightmare              no  2022-10-01         5.948   \n",
       "4189  Spookiz: The Movie              ko  2020-08-16         4.927   \n",
       "4230      SCP: Dollhouse              en  2019-08-23         4.847   \n",
       "4247  Exorcist Vengeance              en  2022-05-30         4.826   \n",
       "\n",
       "      contagem_votos  media_votos   orcamento  receita  tempo_execucao  \\\n",
       "28                 2         10.0  20000000.0      0.0             111   \n",
       "954                1         10.0         0.0      0.0               0   \n",
       "3508               1         10.0         0.0      0.0             100   \n",
       "4189               1         10.0         0.0      0.0              82   \n",
       "4230               6          9.0      2000.0      0.0              17   \n",
       "4247               1         10.0         0.0      0.0              87   \n",
       "\n",
       "        status  adulto                             genero  \n",
       "28    Released   False          Horror, Mystery, Thriller  \n",
       "954   Released   False                     Comedy, Horror  \n",
       "3508  Released   False                      Drama, Horror  \n",
       "4189  Released   False  Animation, Comedy, Family, Horror  \n",
       "4230  Released   False                             Horror  \n",
       "4247  Released   False                     Action, Horror  "
      ]
     },
     "execution_count": 25,
     "metadata": {},
     "output_type": "execute_result"
    }
   ],
   "source": [
    "media_votos9 = df.query('media_votos >= 9.0').head(6)\n",
    "media_votos9"
   ]
  },
  {
   "cell_type": "markdown",
   "metadata": {},
   "source": [
    "**Filmes com média menores ou igual a 2**"
   ]
  },
  {
   "cell_type": "code",
   "execution_count": 26,
   "metadata": {},
   "outputs": [
    {
     "data": {
      "text/html": [
       "<div>\n",
       "<style scoped>\n",
       "    .dataframe tbody tr th:only-of-type {\n",
       "        vertical-align: middle;\n",
       "    }\n",
       "\n",
       "    .dataframe tbody tr th {\n",
       "        vertical-align: top;\n",
       "    }\n",
       "\n",
       "    .dataframe thead th {\n",
       "        text-align: right;\n",
       "    }\n",
       "</style>\n",
       "<table border=\"1\" class=\"dataframe\">\n",
       "  <thead>\n",
       "    <tr style=\"text-align: right;\">\n",
       "      <th></th>\n",
       "      <th>título</th>\n",
       "      <th>idioma_original</th>\n",
       "      <th>lancamento</th>\n",
       "      <th>popularidade</th>\n",
       "      <th>contagem_votos</th>\n",
       "      <th>media_votos</th>\n",
       "      <th>orcamento</th>\n",
       "      <th>receita</th>\n",
       "      <th>tempo_execucao</th>\n",
       "      <th>status</th>\n",
       "      <th>adulto</th>\n",
       "      <th>genero</th>\n",
       "    </tr>\n",
       "  </thead>\n",
       "  <tbody>\n",
       "    <tr>\n",
       "      <th>5</th>\n",
       "      <td>Sonríe</td>\n",
       "      <td>es</td>\n",
       "      <td>2022-08-18</td>\n",
       "      <td>939.712</td>\n",
       "      <td>1</td>\n",
       "      <td>1.0</td>\n",
       "      <td>0.0</td>\n",
       "      <td>0.0</td>\n",
       "      <td>0</td>\n",
       "      <td>Released</td>\n",
       "      <td>False</td>\n",
       "      <td>Horror, Thriller</td>\n",
       "    </tr>\n",
       "    <tr>\n",
       "      <th>61</th>\n",
       "      <td>Living with Chucky</td>\n",
       "      <td>en</td>\n",
       "      <td>2022-08-13</td>\n",
       "      <td>163.646</td>\n",
       "      <td>2</td>\n",
       "      <td>2.0</td>\n",
       "      <td>0.0</td>\n",
       "      <td>0.0</td>\n",
       "      <td>105</td>\n",
       "      <td>Released</td>\n",
       "      <td>False</td>\n",
       "      <td>Documentary, Horror</td>\n",
       "    </tr>\n",
       "    <tr>\n",
       "      <th>74</th>\n",
       "      <td>Sonríe</td>\n",
       "      <td>eo</td>\n",
       "      <td>2012-10-23</td>\n",
       "      <td>138.633</td>\n",
       "      <td>1</td>\n",
       "      <td>2.0</td>\n",
       "      <td>0.0</td>\n",
       "      <td>0.0</td>\n",
       "      <td>0</td>\n",
       "      <td>Released</td>\n",
       "      <td>False</td>\n",
       "      <td>Horror</td>\n",
       "    </tr>\n",
       "    <tr>\n",
       "      <th>106</th>\n",
       "      <td>Smile</td>\n",
       "      <td>en</td>\n",
       "      <td>2016-11-16</td>\n",
       "      <td>106.579</td>\n",
       "      <td>0</td>\n",
       "      <td>0.0</td>\n",
       "      <td>0.0</td>\n",
       "      <td>0.0</td>\n",
       "      <td>15</td>\n",
       "      <td>Released</td>\n",
       "      <td>False</td>\n",
       "      <td>Horror</td>\n",
       "    </tr>\n",
       "    <tr>\n",
       "      <th>131</th>\n",
       "      <td>Dahmer vs. Gacy</td>\n",
       "      <td>en</td>\n",
       "      <td>2010-04-24</td>\n",
       "      <td>91.270</td>\n",
       "      <td>5</td>\n",
       "      <td>1.8</td>\n",
       "      <td>0.0</td>\n",
       "      <td>550000.0</td>\n",
       "      <td>90</td>\n",
       "      <td>Released</td>\n",
       "      <td>False</td>\n",
       "      <td>Comedy, Horror</td>\n",
       "    </tr>\n",
       "    <tr>\n",
       "      <th>144</th>\n",
       "      <td>Prey for the Devil</td>\n",
       "      <td>en</td>\n",
       "      <td>2022-10-26</td>\n",
       "      <td>86.758</td>\n",
       "      <td>0</td>\n",
       "      <td>0.0</td>\n",
       "      <td>0.0</td>\n",
       "      <td>0.0</td>\n",
       "      <td>93</td>\n",
       "      <td>Post Production</td>\n",
       "      <td>False</td>\n",
       "      <td>Horror, Thriller</td>\n",
       "    </tr>\n",
       "  </tbody>\n",
       "</table>\n",
       "</div>"
      ],
      "text/plain": [
       "                 título idioma_original  lancamento  popularidade  \\\n",
       "5                Sonríe              es  2022-08-18       939.712   \n",
       "61   Living with Chucky              en  2022-08-13       163.646   \n",
       "74               Sonríe              eo  2012-10-23       138.633   \n",
       "106               Smile              en  2016-11-16       106.579   \n",
       "131     Dahmer vs. Gacy              en  2010-04-24        91.270   \n",
       "144  Prey for the Devil              en  2022-10-26        86.758   \n",
       "\n",
       "     contagem_votos  media_votos  orcamento   receita  tempo_execucao  \\\n",
       "5                 1          1.0        0.0       0.0               0   \n",
       "61                2          2.0        0.0       0.0             105   \n",
       "74                1          2.0        0.0       0.0               0   \n",
       "106               0          0.0        0.0       0.0              15   \n",
       "131               5          1.8        0.0  550000.0              90   \n",
       "144               0          0.0        0.0       0.0              93   \n",
       "\n",
       "              status  adulto               genero  \n",
       "5           Released   False     Horror, Thriller  \n",
       "61          Released   False  Documentary, Horror  \n",
       "74          Released   False               Horror  \n",
       "106         Released   False               Horror  \n",
       "131         Released   False       Comedy, Horror  \n",
       "144  Post Production   False     Horror, Thriller  "
      ]
     },
     "execution_count": 26,
     "metadata": {},
     "output_type": "execute_result"
    }
   ],
   "source": [
    "media_votos2 = df.query('media_votos <= 2.0').head(6)\n",
    "media_votos2"
   ]
  },
  {
   "cell_type": "markdown",
   "metadata": {},
   "source": [
    "## Dados faltantes"
   ]
  },
  {
   "cell_type": "code",
   "execution_count": 27,
   "metadata": {},
   "outputs": [
    {
     "data": {
      "text/plain": [
       "título             0\n",
       "idioma_original    0\n",
       "lancamento         0\n",
       "popularidade       0\n",
       "contagem_votos     0\n",
       "media_votos        0\n",
       "orcamento          0\n",
       "receita            0\n",
       "tempo_execucao     0\n",
       "status             0\n",
       "adulto             0\n",
       "genero             0\n",
       "dtype: int64"
      ]
     },
     "execution_count": 27,
     "metadata": {},
     "output_type": "execute_result"
    }
   ],
   "source": [
    "df.isnull().sum()"
   ]
  },
  {
   "cell_type": "markdown",
   "metadata": {},
   "source": [
    "## Dados estatístico"
   ]
  },
  {
   "cell_type": "code",
   "execution_count": 28,
   "metadata": {},
   "outputs": [
    {
     "data": {
      "text/plain": [
       "count        32540.0\n",
       "mean       1349747.0\n",
       "std       14430479.0\n",
       "min              0.0\n",
       "25%              0.0\n",
       "50%              0.0\n",
       "75%              0.0\n",
       "max      701842551.0\n",
       "Name: receita, dtype: float64"
      ]
     },
     "execution_count": 28,
     "metadata": {},
     "output_type": "execute_result"
    }
   ],
   "source": [
    "df.receita.describe().round()"
   ]
  },
  {
   "cell_type": "code",
   "execution_count": 29,
   "metadata": {},
   "outputs": [
    {
     "data": {
      "text/plain": [
       "count    3.254000e+04\n",
       "mean     5.431266e+05\n",
       "std      4.542668e+06\n",
       "min      0.000000e+00\n",
       "25%      0.000000e+00\n",
       "50%      0.000000e+00\n",
       "75%      0.000000e+00\n",
       "max      2.000000e+08\n",
       "Name: orcamento, dtype: float64"
      ]
     },
     "execution_count": 29,
     "metadata": {},
     "output_type": "execute_result"
    }
   ],
   "source": [
    "df.orcamento.describe()"
   ]
  },
  {
   "cell_type": "markdown",
   "metadata": {},
   "source": [
    "## Mudar o tipo de dados das variáveis"
   ]
  },
  {
   "cell_type": "code",
   "execution_count": 30,
   "metadata": {},
   "outputs": [
    {
     "data": {
      "text/plain": [
       "título              object\n",
       "idioma_original     object\n",
       "lancamento          object\n",
       "popularidade       float64\n",
       "contagem_votos       int64\n",
       "media_votos        float64\n",
       "orcamento          float64\n",
       "receita            float64\n",
       "tempo_execucao       int64\n",
       "status              object\n",
       "adulto                bool\n",
       "genero              object\n",
       "dtype: object"
      ]
     },
     "execution_count": 30,
     "metadata": {},
     "output_type": "execute_result"
    }
   ],
   "source": [
    "df.dtypes"
   ]
  },
  {
   "cell_type": "code",
   "execution_count": 31,
   "metadata": {},
   "outputs": [
    {
     "data": {
      "text/plain": [
       "título                     object\n",
       "idioma_original            object\n",
       "lancamento         datetime64[ns]\n",
       "popularidade              float64\n",
       "contagem_votos              int64\n",
       "media_votos               float64\n",
       "orcamento                 float64\n",
       "receita                   float64\n",
       "tempo_execucao              int64\n",
       "status                     object\n",
       "adulto                       bool\n",
       "genero                     object\n",
       "dtype: object"
      ]
     },
     "execution_count": 31,
     "metadata": {},
     "output_type": "execute_result"
    }
   ],
   "source": [
    "# criando uma cópia do dataset original\n",
    "dados = df\n",
    "\n",
    "# Mudando o tipo da variável lançamento p/ datetime\n",
    "dados['lancamento'] = pd.to_datetime(dados['lancamento'])\n",
    "dados.dtypes"
   ]
  },
  {
   "cell_type": "markdown",
   "metadata": {},
   "source": [
    "## Criar novo Registros"
   ]
  },
  {
   "cell_type": "code",
   "execution_count": 32,
   "metadata": {},
   "outputs": [
    {
     "data": {
      "text/html": [
       "<div>\n",
       "<style scoped>\n",
       "    .dataframe tbody tr th:only-of-type {\n",
       "        vertical-align: middle;\n",
       "    }\n",
       "\n",
       "    .dataframe tbody tr th {\n",
       "        vertical-align: top;\n",
       "    }\n",
       "\n",
       "    .dataframe thead th {\n",
       "        text-align: right;\n",
       "    }\n",
       "</style>\n",
       "<table border=\"1\" class=\"dataframe\">\n",
       "  <thead>\n",
       "    <tr style=\"text-align: right;\">\n",
       "      <th></th>\n",
       "      <th>título</th>\n",
       "      <th>idioma_original</th>\n",
       "      <th>lancamento</th>\n",
       "      <th>popularidade</th>\n",
       "      <th>contagem_votos</th>\n",
       "      <th>media_votos</th>\n",
       "      <th>orcamento</th>\n",
       "      <th>receita</th>\n",
       "      <th>tempo_execucao</th>\n",
       "      <th>status</th>\n",
       "      <th>adulto</th>\n",
       "      <th>genero</th>\n",
       "      <th>dia_semana</th>\n",
       "    </tr>\n",
       "  </thead>\n",
       "  <tbody>\n",
       "    <tr>\n",
       "      <th>0</th>\n",
       "      <td>Orphan: First Kill</td>\n",
       "      <td>en</td>\n",
       "      <td>2022-07-27</td>\n",
       "      <td>5088.584</td>\n",
       "      <td>902</td>\n",
       "      <td>6.9</td>\n",
       "      <td>0.0</td>\n",
       "      <td>9572765.0</td>\n",
       "      <td>99</td>\n",
       "      <td>Released</td>\n",
       "      <td>False</td>\n",
       "      <td>Horror, Thriller</td>\n",
       "      <td>Wednesday</td>\n",
       "    </tr>\n",
       "    <tr>\n",
       "      <th>1</th>\n",
       "      <td>Beast</td>\n",
       "      <td>en</td>\n",
       "      <td>2022-08-11</td>\n",
       "      <td>2172.338</td>\n",
       "      <td>584</td>\n",
       "      <td>7.1</td>\n",
       "      <td>0.0</td>\n",
       "      <td>56000000.0</td>\n",
       "      <td>93</td>\n",
       "      <td>Released</td>\n",
       "      <td>False</td>\n",
       "      <td>Adventure, Drama, Horror</td>\n",
       "      <td>Thursday</td>\n",
       "    </tr>\n",
       "    <tr>\n",
       "      <th>2</th>\n",
       "      <td>Smile</td>\n",
       "      <td>en</td>\n",
       "      <td>2022-09-23</td>\n",
       "      <td>1863.628</td>\n",
       "      <td>114</td>\n",
       "      <td>6.8</td>\n",
       "      <td>17000000.0</td>\n",
       "      <td>45000000.0</td>\n",
       "      <td>115</td>\n",
       "      <td>Released</td>\n",
       "      <td>False</td>\n",
       "      <td>Horror, Mystery, Thriller</td>\n",
       "      <td>Friday</td>\n",
       "    </tr>\n",
       "  </tbody>\n",
       "</table>\n",
       "</div>"
      ],
      "text/plain": [
       "               título idioma_original lancamento  popularidade  \\\n",
       "0  Orphan: First Kill              en 2022-07-27      5088.584   \n",
       "1               Beast              en 2022-08-11      2172.338   \n",
       "2               Smile              en 2022-09-23      1863.628   \n",
       "\n",
       "   contagem_votos  media_votos   orcamento     receita  tempo_execucao  \\\n",
       "0             902          6.9         0.0   9572765.0              99   \n",
       "1             584          7.1         0.0  56000000.0              93   \n",
       "2             114          6.8  17000000.0  45000000.0             115   \n",
       "\n",
       "     status  adulto                     genero dia_semana  \n",
       "0  Released   False           Horror, Thriller  Wednesday  \n",
       "1  Released   False   Adventure, Drama, Horror   Thursday  \n",
       "2  Released   False  Horror, Mystery, Thriller     Friday  "
      ]
     },
     "execution_count": 32,
     "metadata": {},
     "output_type": "execute_result"
    }
   ],
   "source": [
    "# Criar uma variável com nome do dia da semana\n",
    "dados['dia_semana'] = dados['lancamento'].dt.day_name()\n",
    "dados.head(3)"
   ]
  },
  {
   "cell_type": "code",
   "execution_count": 33,
   "metadata": {},
   "outputs": [
    {
     "data": {
      "text/plain": [
       "array(['Wednesday', 'Thursday', 'Friday', 'Tuesday', 'Sunday', 'Monday',\n",
       "       'Saturday'], dtype=object)"
      ]
     },
     "execution_count": 33,
     "metadata": {},
     "output_type": "execute_result"
    }
   ],
   "source": [
    "dados['dia_semana'].unique()"
   ]
  },
  {
   "cell_type": "code",
   "execution_count": 34,
   "metadata": {},
   "outputs": [],
   "source": [
    "# Traduzir o nome dos dias da semana\n",
    "dias_traduzido = {'Monday':'Segunda', 'Tuesday':'Terça', \n",
    "                  'Wednesday':'Quarta', 'Thursday':'Quinta', \n",
    "                  'Friday':'Sexta', 'Saturday':'Sábado',\n",
    "                   'Sunday':'Domingo'}"
   ]
  },
  {
   "cell_type": "code",
   "execution_count": 35,
   "metadata": {},
   "outputs": [
    {
     "data": {
      "text/html": [
       "<div>\n",
       "<style scoped>\n",
       "    .dataframe tbody tr th:only-of-type {\n",
       "        vertical-align: middle;\n",
       "    }\n",
       "\n",
       "    .dataframe tbody tr th {\n",
       "        vertical-align: top;\n",
       "    }\n",
       "\n",
       "    .dataframe thead th {\n",
       "        text-align: right;\n",
       "    }\n",
       "</style>\n",
       "<table border=\"1\" class=\"dataframe\">\n",
       "  <thead>\n",
       "    <tr style=\"text-align: right;\">\n",
       "      <th></th>\n",
       "      <th>título</th>\n",
       "      <th>idioma_original</th>\n",
       "      <th>lancamento</th>\n",
       "      <th>popularidade</th>\n",
       "      <th>contagem_votos</th>\n",
       "      <th>media_votos</th>\n",
       "      <th>orcamento</th>\n",
       "      <th>receita</th>\n",
       "      <th>tempo_execucao</th>\n",
       "      <th>status</th>\n",
       "      <th>adulto</th>\n",
       "      <th>genero</th>\n",
       "      <th>dia_semana</th>\n",
       "    </tr>\n",
       "  </thead>\n",
       "  <tbody>\n",
       "    <tr>\n",
       "      <th>0</th>\n",
       "      <td>Orphan: First Kill</td>\n",
       "      <td>en</td>\n",
       "      <td>2022-07-27</td>\n",
       "      <td>5088.584</td>\n",
       "      <td>902</td>\n",
       "      <td>6.9</td>\n",
       "      <td>0.0</td>\n",
       "      <td>9572765.0</td>\n",
       "      <td>99</td>\n",
       "      <td>Released</td>\n",
       "      <td>False</td>\n",
       "      <td>Horror, Thriller</td>\n",
       "      <td>Quarta</td>\n",
       "    </tr>\n",
       "    <tr>\n",
       "      <th>1</th>\n",
       "      <td>Beast</td>\n",
       "      <td>en</td>\n",
       "      <td>2022-08-11</td>\n",
       "      <td>2172.338</td>\n",
       "      <td>584</td>\n",
       "      <td>7.1</td>\n",
       "      <td>0.0</td>\n",
       "      <td>56000000.0</td>\n",
       "      <td>93</td>\n",
       "      <td>Released</td>\n",
       "      <td>False</td>\n",
       "      <td>Adventure, Drama, Horror</td>\n",
       "      <td>Quinta</td>\n",
       "    </tr>\n",
       "    <tr>\n",
       "      <th>2</th>\n",
       "      <td>Smile</td>\n",
       "      <td>en</td>\n",
       "      <td>2022-09-23</td>\n",
       "      <td>1863.628</td>\n",
       "      <td>114</td>\n",
       "      <td>6.8</td>\n",
       "      <td>17000000.0</td>\n",
       "      <td>45000000.0</td>\n",
       "      <td>115</td>\n",
       "      <td>Released</td>\n",
       "      <td>False</td>\n",
       "      <td>Horror, Mystery, Thriller</td>\n",
       "      <td>Sexta</td>\n",
       "    </tr>\n",
       "    <tr>\n",
       "      <th>3</th>\n",
       "      <td>The Black Phone</td>\n",
       "      <td>en</td>\n",
       "      <td>2022-06-22</td>\n",
       "      <td>1071.398</td>\n",
       "      <td>2736</td>\n",
       "      <td>7.9</td>\n",
       "      <td>18800000.0</td>\n",
       "      <td>161000000.0</td>\n",
       "      <td>103</td>\n",
       "      <td>Released</td>\n",
       "      <td>False</td>\n",
       "      <td>Horror, Thriller</td>\n",
       "      <td>Quarta</td>\n",
       "    </tr>\n",
       "    <tr>\n",
       "      <th>4</th>\n",
       "      <td>Presences</td>\n",
       "      <td>es</td>\n",
       "      <td>2022-09-07</td>\n",
       "      <td>1020.995</td>\n",
       "      <td>83</td>\n",
       "      <td>7.0</td>\n",
       "      <td>0.0</td>\n",
       "      <td>0.0</td>\n",
       "      <td>0</td>\n",
       "      <td>Released</td>\n",
       "      <td>False</td>\n",
       "      <td>Horror</td>\n",
       "      <td>Quarta</td>\n",
       "    </tr>\n",
       "  </tbody>\n",
       "</table>\n",
       "</div>"
      ],
      "text/plain": [
       "               título idioma_original lancamento  popularidade  \\\n",
       "0  Orphan: First Kill              en 2022-07-27      5088.584   \n",
       "1               Beast              en 2022-08-11      2172.338   \n",
       "2               Smile              en 2022-09-23      1863.628   \n",
       "3     The Black Phone              en 2022-06-22      1071.398   \n",
       "4           Presences              es 2022-09-07      1020.995   \n",
       "\n",
       "   contagem_votos  media_votos   orcamento      receita  tempo_execucao  \\\n",
       "0             902          6.9         0.0    9572765.0              99   \n",
       "1             584          7.1         0.0   56000000.0              93   \n",
       "2             114          6.8  17000000.0   45000000.0             115   \n",
       "3            2736          7.9  18800000.0  161000000.0             103   \n",
       "4              83          7.0         0.0          0.0               0   \n",
       "\n",
       "     status  adulto                     genero dia_semana  \n",
       "0  Released   False           Horror, Thriller     Quarta  \n",
       "1  Released   False   Adventure, Drama, Horror     Quinta  \n",
       "2  Released   False  Horror, Mystery, Thriller      Sexta  \n",
       "3  Released   False           Horror, Thriller     Quarta  \n",
       "4  Released   False                     Horror     Quarta  "
      ]
     },
     "execution_count": 35,
     "metadata": {},
     "output_type": "execute_result"
    }
   ],
   "source": [
    "# Modificando os dados\n",
    "dados['dia_semana'] = dados['dia_semana'].map(dias_traduzido)\n",
    "dados.head()"
   ]
  },
  {
   "cell_type": "markdown",
   "metadata": {},
   "source": [
    "## Agrupar os dados"
   ]
  },
  {
   "cell_type": "code",
   "execution_count": 36,
   "metadata": {},
   "outputs": [
    {
     "data": {
      "text/html": [
       "<div>\n",
       "<style scoped>\n",
       "    .dataframe tbody tr th:only-of-type {\n",
       "        vertical-align: middle;\n",
       "    }\n",
       "\n",
       "    .dataframe tbody tr th {\n",
       "        vertical-align: top;\n",
       "    }\n",
       "\n",
       "    .dataframe thead th {\n",
       "        text-align: right;\n",
       "    }\n",
       "</style>\n",
       "<table border=\"1\" class=\"dataframe\">\n",
       "  <thead>\n",
       "    <tr style=\"text-align: right;\">\n",
       "      <th></th>\n",
       "      <th>tempo_execucao</th>\n",
       "      <th>media_votos</th>\n",
       "      <th>orcamento</th>\n",
       "    </tr>\n",
       "    <tr>\n",
       "      <th>dia_semana</th>\n",
       "      <th></th>\n",
       "      <th></th>\n",
       "      <th></th>\n",
       "    </tr>\n",
       "  </thead>\n",
       "  <tbody>\n",
       "    <tr>\n",
       "      <th>Domingo</th>\n",
       "      <td>54.0</td>\n",
       "      <td>3.0</td>\n",
       "      <td>186309.0</td>\n",
       "    </tr>\n",
       "    <tr>\n",
       "      <th>Quarta</th>\n",
       "      <td>61.0</td>\n",
       "      <td>3.0</td>\n",
       "      <td>854354.0</td>\n",
       "    </tr>\n",
       "    <tr>\n",
       "      <th>Quinta</th>\n",
       "      <td>64.0</td>\n",
       "      <td>3.0</td>\n",
       "      <td>691877.0</td>\n",
       "    </tr>\n",
       "    <tr>\n",
       "      <th>Segunda</th>\n",
       "      <td>57.0</td>\n",
       "      <td>3.0</td>\n",
       "      <td>106998.0</td>\n",
       "    </tr>\n",
       "    <tr>\n",
       "      <th>Sexta</th>\n",
       "      <td>68.0</td>\n",
       "      <td>4.0</td>\n",
       "      <td>956503.0</td>\n",
       "    </tr>\n",
       "    <tr>\n",
       "      <th>Sábado</th>\n",
       "      <td>59.0</td>\n",
       "      <td>3.0</td>\n",
       "      <td>169551.0</td>\n",
       "    </tr>\n",
       "    <tr>\n",
       "      <th>Terça</th>\n",
       "      <td>63.0</td>\n",
       "      <td>3.0</td>\n",
       "      <td>300703.0</td>\n",
       "    </tr>\n",
       "  </tbody>\n",
       "</table>\n",
       "</div>"
      ],
      "text/plain": [
       "            tempo_execucao  media_votos  orcamento\n",
       "dia_semana                                        \n",
       "Domingo               54.0          3.0   186309.0\n",
       "Quarta                61.0          3.0   854354.0\n",
       "Quinta                64.0          3.0   691877.0\n",
       "Segunda               57.0          3.0   106998.0\n",
       "Sexta                 68.0          4.0   956503.0\n",
       "Sábado                59.0          3.0   169551.0\n",
       "Terça                 63.0          3.0   300703.0"
      ]
     },
     "execution_count": 36,
     "metadata": {},
     "output_type": "execute_result"
    }
   ],
   "source": [
    "agrupar = dados.groupby('dia_semana')['tempo_execucao','media_votos','orcamento'].mean().round()\n",
    "agrupar  "
   ]
  },
  {
   "cell_type": "code",
   "execution_count": 37,
   "metadata": {},
   "outputs": [
    {
     "data": {
      "text/html": [
       "<div>\n",
       "<style scoped>\n",
       "    .dataframe tbody tr th:only-of-type {\n",
       "        vertical-align: middle;\n",
       "    }\n",
       "\n",
       "    .dataframe tbody tr th {\n",
       "        vertical-align: top;\n",
       "    }\n",
       "\n",
       "    .dataframe thead th {\n",
       "        text-align: right;\n",
       "    }\n",
       "</style>\n",
       "<table border=\"1\" class=\"dataframe\">\n",
       "  <thead>\n",
       "    <tr style=\"text-align: right;\">\n",
       "      <th></th>\n",
       "      <th>tempo_execucao</th>\n",
       "      <th>orcamento</th>\n",
       "      <th>receita</th>\n",
       "    </tr>\n",
       "    <tr>\n",
       "      <th>status</th>\n",
       "      <th></th>\n",
       "      <th></th>\n",
       "      <th></th>\n",
       "    </tr>\n",
       "  </thead>\n",
       "  <tbody>\n",
       "    <tr>\n",
       "      <th>In Production</th>\n",
       "      <td>25.0</td>\n",
       "      <td>1497.0</td>\n",
       "      <td>0.0</td>\n",
       "    </tr>\n",
       "    <tr>\n",
       "      <th>Planned</th>\n",
       "      <td>17.0</td>\n",
       "      <td>3.0</td>\n",
       "      <td>0.0</td>\n",
       "    </tr>\n",
       "    <tr>\n",
       "      <th>Post Production</th>\n",
       "      <td>35.0</td>\n",
       "      <td>1507788.0</td>\n",
       "      <td>0.0</td>\n",
       "    </tr>\n",
       "    <tr>\n",
       "      <th>Released</th>\n",
       "      <td>62.0</td>\n",
       "      <td>542548.0</td>\n",
       "      <td>1355370.0</td>\n",
       "    </tr>\n",
       "  </tbody>\n",
       "</table>\n",
       "</div>"
      ],
      "text/plain": [
       "                 tempo_execucao  orcamento    receita\n",
       "status                                               \n",
       "In Production              25.0     1497.0        0.0\n",
       "Planned                    17.0        3.0        0.0\n",
       "Post Production            35.0  1507788.0        0.0\n",
       "Released                   62.0   542548.0  1355370.0"
      ]
     },
     "execution_count": 37,
     "metadata": {},
     "output_type": "execute_result"
    }
   ],
   "source": [
    "agrupar2 = dados.groupby('status')['tempo_execucao','orcamento','receita'].mean().round()\n",
    "agrupar2 "
   ]
  },
  {
   "cell_type": "markdown",
   "metadata": {},
   "source": [
    "## <font color=green>Visualizações (Dashboard)"
   ]
  },
  {
   "cell_type": "code",
   "execution_count": 38,
   "metadata": {},
   "outputs": [],
   "source": [
    "# Filmes somente da decada de 1950\n",
    "def ano(filtro, texto):\n",
    "    \n",
    "    ano = dados.query(filtro)\n",
    "\n",
    "    fig, ax = plt.subplots(figsize=(20,6))\n",
    "    ax.set_title('Filmes', fontsize=15)\n",
    "    ax.set_ylabel(texto, fontsize=15)\n",
    "    ax.set_xlabel('Frequência', fontsize=15)\n",
    "    ax = ano['lancamento'].plot()"
   ]
  },
  {
   "cell_type": "code",
   "execution_count": 39,
   "metadata": {},
   "outputs": [
    {
     "data": {
      "image/png": "[encoded data removed]",
      "text/plain": [
       "<Figure size 1440x432 with 1 Axes>"
      ]
     },
     "metadata": {
      "needs_background": "light"
     },
     "output_type": "display_data"
    }
   ],
   "source": [
    "ano('lancamento < \"1951-01-01\"', 'Data 1950')"
   ]
  },
  {
   "cell_type": "code",
   "execution_count": 40,
   "metadata": {},
   "outputs": [
    {
     "data": {
      "image/png": "[encoded data removed]",
      "text/plain": [
       "<Figure size 1440x432 with 1 Axes>"
      ]
     },
     "metadata": {
      "needs_background": "light"
     },
     "output_type": "display_data"
    }
   ],
   "source": [
    "ano('lancamento > \"2022-01-01\"', 'Data 2022')"
   ]
  },
  {
   "cell_type": "markdown",
   "metadata": {},
   "source": [
    "## Gráfico de barras"
   ]
  },
  {
   "cell_type": "code",
   "execution_count": 41,
   "metadata": {},
   "outputs": [],
   "source": [
    "def barra(x, y, data, title):\n",
    "    ax = sns.barplot(x=x, y=y, palette='GnBu_d', data = data)\n",
    "    ax.set_title(title, fontsize=15)\n",
    "    ax.figure.set_size_inches(12,6)\n",
    "    ax.figure.set_size_inches(25,14)"
   ]
  },
  {
   "cell_type": "code",
   "execution_count": 42,
   "metadata": {},
   "outputs": [
    {
     "data": {
      "image/png": "[encoded data removed]",
      "text/plain": [
       "<Figure size 1800x1008 with 1 Axes>"
      ]
     },
     "metadata": {
      "needs_background": "light"
     },
     "output_type": "display_data"
    }
   ],
   "source": [
    "barra('título', 'media_votos', media_votos2, 'Piores Filmes')"
   ]
  },
  {
   "cell_type": "code",
   "execution_count": 43,
   "metadata": {},
   "outputs": [
    {
     "data": {
      "image/png": "[encoded data removed]",
      "text/plain": [
       "<Figure size 1800x1008 with 1 Axes>"
      ]
     },
     "metadata": {
      "needs_background": "light"
     },
     "output_type": "display_data"
    }
   ],
   "source": [
    "barra('título', 'media_votos', media_votos9, 'Melhores filmes Filmes')"
   ]
  },
  {
   "cell_type": "code",
   "execution_count": 44,
   "metadata": {},
   "outputs": [
    {
     "data": {
      "image/png": "[encoded data removed]",
      "text/plain": [
       "<Figure size 1800x1008 with 1 Axes>"
      ]
     },
     "metadata": {
      "needs_background": "light"
     },
     "output_type": "display_data"
    }
   ],
   "source": [
    "barra('título', 'orcamento', ingles, 'Maiores orçamento dos Filmes com idioma inglês')"
   ]
  },
  {
   "cell_type": "code",
   "execution_count": 45,
   "metadata": {},
   "outputs": [
    {
     "data": {
      "image/png": "[encoded data removed]",
      "text/plain": [
       "<Figure size 1800x1008 with 1 Axes>"
      ]
     },
     "metadata": {
      "needs_background": "light"
     },
     "output_type": "display_data"
    }
   ],
   "source": [
    "barra('título', 'orcamento', outras, 'Maiores orçamento de filmes de outros idiomas')"
   ]
  },
  {
   "cell_type": "code",
   "execution_count": 46,
   "metadata": {
    "scrolled": true
   },
   "outputs": [
    {
     "data": {
      "image/png": "[encoded data removed]",
      "text/plain": [
       "<Figure size 1800x1008 with 1 Axes>"
      ]
     },
     "metadata": {
      "needs_background": "light"
     },
     "output_type": "display_data"
    }
   ],
   "source": [
    "barra('lancamento', 'receita', ingles, 'Receita dos filmes, por lançamento, lingua:inglês')"
   ]
  },
  {
   "cell_type": "code",
   "execution_count": 47,
   "metadata": {},
   "outputs": [
    {
     "data": {
      "image/png": "[encoded data removed]",
      "text/plain": [
       "<Figure size 1800x1008 with 1 Axes>"
      ]
     },
     "metadata": {
      "needs_background": "light"
     },
     "output_type": "display_data"
    }
   ],
   "source": [
    "barra('título', 'orcamento', pt, 'Maiores orçamento dos Filmes com idioma Português')"
   ]
  },
  {
   "cell_type": "code",
   "execution_count": 48,
   "metadata": {},
   "outputs": [
    {
     "data": {
      "image/png": "[encoded data removed]",
      "text/plain": [
       "<Figure size 1800x1008 with 1 Axes>"
      ]
     },
     "metadata": {
      "needs_background": "light"
     },
     "output_type": "display_data"
    }
   ],
   "source": [
    "barra('título', 'orcamento', jp, 'Maiores orçamento dos Filmes com idioma Japão')"
   ]
  },
  {
   "cell_type": "code",
   "execution_count": 49,
   "metadata": {},
   "outputs": [
    {
     "data": {
      "image/png": "[encoded data removed]",
      "text/plain": [
       "<Figure size 1800x1008 with 1 Axes>"
      ]
     },
     "metadata": {
      "needs_background": "light"
     },
     "output_type": "display_data"
    }
   ],
   "source": [
    "barra('título', 'orcamento', en, 'Maiores orçamento dos Filmes com idioma Espanhol')"
   ]
  },
  {
   "cell_type": "code",
   "execution_count": 50,
   "metadata": {},
   "outputs": [
    {
     "data": {
      "image/png": "[encoded data removed]",
      "text/plain": [
       "<Figure size 360x360 with 1 Axes>"
      ]
     },
     "metadata": {
      "needs_background": "light"
     },
     "output_type": "display_data"
    }
   ],
   "source": [
    "ax = sns.catplot(data=df, kind='bar', x='status', y='tempo_execucao')"
   ]
  },
  {
   "cell_type": "markdown",
   "metadata": {},
   "source": [
    "## Verificando o orçamento p/ os filmes"
   ]
  },
  {
   "cell_type": "code",
   "execution_count": 51,
   "metadata": {},
   "outputs": [
    {
     "data": {
      "text/html": [
       "<div>\n",
       "<style scoped>\n",
       "    .dataframe tbody tr th:only-of-type {\n",
       "        vertical-align: middle;\n",
       "    }\n",
       "\n",
       "    .dataframe tbody tr th {\n",
       "        vertical-align: top;\n",
       "    }\n",
       "\n",
       "    .dataframe thead th {\n",
       "        text-align: right;\n",
       "    }\n",
       "</style>\n",
       "<table border=\"1\" class=\"dataframe\">\n",
       "  <thead>\n",
       "    <tr style=\"text-align: right;\">\n",
       "      <th></th>\n",
       "      <th>título</th>\n",
       "      <th>idioma_original</th>\n",
       "      <th>lancamento</th>\n",
       "      <th>popularidade</th>\n",
       "      <th>contagem_votos</th>\n",
       "      <th>media_votos</th>\n",
       "      <th>orcamento</th>\n",
       "      <th>receita</th>\n",
       "      <th>tempo_execucao</th>\n",
       "      <th>status</th>\n",
       "      <th>adulto</th>\n",
       "      <th>genero</th>\n",
       "      <th>dia_semana</th>\n",
       "      <th>aumento</th>\n",
       "      <th>aceleracao</th>\n",
       "    </tr>\n",
       "  </thead>\n",
       "  <tbody>\n",
       "    <tr>\n",
       "      <th>0</th>\n",
       "      <td>Orphan: First Kill</td>\n",
       "      <td>en</td>\n",
       "      <td>2022-07-27</td>\n",
       "      <td>5088.584</td>\n",
       "      <td>902</td>\n",
       "      <td>6.9</td>\n",
       "      <td>0.0</td>\n",
       "      <td>9572765.0</td>\n",
       "      <td>99</td>\n",
       "      <td>Released</td>\n",
       "      <td>False</td>\n",
       "      <td>Horror, Thriller</td>\n",
       "      <td>Quarta</td>\n",
       "      <td>NaN</td>\n",
       "      <td>NaN</td>\n",
       "    </tr>\n",
       "    <tr>\n",
       "      <th>1</th>\n",
       "      <td>Beast</td>\n",
       "      <td>en</td>\n",
       "      <td>2022-08-11</td>\n",
       "      <td>2172.338</td>\n",
       "      <td>584</td>\n",
       "      <td>7.1</td>\n",
       "      <td>0.0</td>\n",
       "      <td>56000000.0</td>\n",
       "      <td>93</td>\n",
       "      <td>Released</td>\n",
       "      <td>False</td>\n",
       "      <td>Adventure, Drama, Horror</td>\n",
       "      <td>Quinta</td>\n",
       "      <td>0.0</td>\n",
       "      <td>NaN</td>\n",
       "    </tr>\n",
       "    <tr>\n",
       "      <th>2</th>\n",
       "      <td>Smile</td>\n",
       "      <td>en</td>\n",
       "      <td>2022-09-23</td>\n",
       "      <td>1863.628</td>\n",
       "      <td>114</td>\n",
       "      <td>6.8</td>\n",
       "      <td>17000000.0</td>\n",
       "      <td>45000000.0</td>\n",
       "      <td>115</td>\n",
       "      <td>Released</td>\n",
       "      <td>False</td>\n",
       "      <td>Horror, Mystery, Thriller</td>\n",
       "      <td>Sexta</td>\n",
       "      <td>17000000.0</td>\n",
       "      <td>17000000.0</td>\n",
       "    </tr>\n",
       "    <tr>\n",
       "      <th>3</th>\n",
       "      <td>The Black Phone</td>\n",
       "      <td>en</td>\n",
       "      <td>2022-06-22</td>\n",
       "      <td>1071.398</td>\n",
       "      <td>2736</td>\n",
       "      <td>7.9</td>\n",
       "      <td>18800000.0</td>\n",
       "      <td>161000000.0</td>\n",
       "      <td>103</td>\n",
       "      <td>Released</td>\n",
       "      <td>False</td>\n",
       "      <td>Horror, Thriller</td>\n",
       "      <td>Quarta</td>\n",
       "      <td>1800000.0</td>\n",
       "      <td>-15200000.0</td>\n",
       "    </tr>\n",
       "    <tr>\n",
       "      <th>4</th>\n",
       "      <td>Presences</td>\n",
       "      <td>es</td>\n",
       "      <td>2022-09-07</td>\n",
       "      <td>1020.995</td>\n",
       "      <td>83</td>\n",
       "      <td>7.0</td>\n",
       "      <td>0.0</td>\n",
       "      <td>0.0</td>\n",
       "      <td>0</td>\n",
       "      <td>Released</td>\n",
       "      <td>False</td>\n",
       "      <td>Horror</td>\n",
       "      <td>Quarta</td>\n",
       "      <td>-18800000.0</td>\n",
       "      <td>-20600000.0</td>\n",
       "    </tr>\n",
       "  </tbody>\n",
       "</table>\n",
       "</div>"
      ],
      "text/plain": [
       "               título idioma_original lancamento  popularidade  \\\n",
       "0  Orphan: First Kill              en 2022-07-27      5088.584   \n",
       "1               Beast              en 2022-08-11      2172.338   \n",
       "2               Smile              en 2022-09-23      1863.628   \n",
       "3     The Black Phone              en 2022-06-22      1071.398   \n",
       "4           Presences              es 2022-09-07      1020.995   \n",
       "\n",
       "   contagem_votos  media_votos   orcamento      receita  tempo_execucao  \\\n",
       "0             902          6.9         0.0    9572765.0              99   \n",
       "1             584          7.1         0.0   56000000.0              93   \n",
       "2             114          6.8  17000000.0   45000000.0             115   \n",
       "3            2736          7.9  18800000.0  161000000.0             103   \n",
       "4              83          7.0         0.0          0.0               0   \n",
       "\n",
       "     status  adulto                     genero dia_semana     aumento  \\\n",
       "0  Released   False           Horror, Thriller     Quarta         NaN   \n",
       "1  Released   False   Adventure, Drama, Horror     Quinta         0.0   \n",
       "2  Released   False  Horror, Mystery, Thriller      Sexta  17000000.0   \n",
       "3  Released   False           Horror, Thriller     Quarta   1800000.0   \n",
       "4  Released   False                     Horror     Quarta -18800000.0   \n",
       "\n",
       "   aceleracao  \n",
       "0         NaN  \n",
       "1         NaN  \n",
       "2  17000000.0  \n",
       "3 -15200000.0  \n",
       "4 -20600000.0  "
      ]
     },
     "execution_count": 51,
     "metadata": {},
     "output_type": "execute_result"
    }
   ],
   "source": [
    "dados['aumento'] = dados['orcamento'].diff()\n",
    "dados['aceleracao'] = dados['aumento'].diff()\n",
    "dados.head()"
   ]
  },
  {
   "cell_type": "code",
   "execution_count": 52,
   "metadata": {},
   "outputs": [],
   "source": [
    "def plot_comparacao(x, y1, y2, y3, dataset, titulo):\n",
    "    plt.figure(figsize=(16,12))\n",
    "\n",
    "    ax = plt.subplot(3,1,1)\n",
    "    ax.set_title(titulo, fontsize=18, loc='left')\n",
    "    sns.lineplot(x=x, y=y1, data=dataset)\n",
    "\n",
    "    plt.subplot(3,1,2)\n",
    "    sns.lineplot(x=x, y=y2, data=dataset)\n",
    "\n",
    "    plt.subplot(3,1,3)\n",
    "    sns.lineplot(x=x, y=y3, data=dataset)\n",
    "\n",
    "    ax = ax"
   ]
  },
  {
   "cell_type": "code",
   "execution_count": 53,
   "metadata": {},
   "outputs": [
    {
     "data": {
      "image/png": "[encoded data removed]",
      "text/plain": [
       "<Figure size 1152x864 with 3 Axes>"
      ]
     },
     "metadata": {
      "needs_background": "light"
     },
     "output_type": "display_data"
    }
   ],
   "source": [
    "lancamento51 = dados.query('lancamento < \"1954-01-01\"')\n",
    "\n",
    "plot_comparacao('lancamento','orcamento','aumento','aceleracao',\n",
    "                lancamento51, 'Análise do Orçamento dos filmes')"
   ]
  },
  {
   "cell_type": "code",
   "execution_count": 54,
   "metadata": {},
   "outputs": [
    {
     "data": {
      "image/png": "[encoded data removed]",
      "text/plain": [
       "<Figure size 1152x864 with 3 Axes>"
      ]
     },
     "metadata": {
      "needs_background": "light"
     },
     "output_type": "display_data"
    }
   ],
   "source": [
    "lancamento2021 = dados.query('lancamento > \"2022-01-01\" and lancamento < \"2022-12-31\"')\n",
    "\n",
    "plot_comparacao('lancamento','orcamento','aumento','aceleracao',\n",
    "                lancamento2021, 'Análise do Orçamento dos filmes 2022')"
   ]
  }
 ],
 "metadata": {
  "kernelspec": {
   "display_name": "Python 3",
   "language": "python",
   "name": "python3"
  },
  "language_info": {
   "codemirror_mode": {
    "name": "ipython",
    "version": 3
   },
   "file_extension": ".py",
   "mimetype": "text/x-python",
   "name": "python",
   "nbconvert_exporter": "python",
   "pygments_lexer": "ipython3",
   "version": "3.7.6"
  }
 },
 "nbformat": 4,
 "nbformat_minor": 4
}
